{
 "cells": [
  {
   "cell_type": "code",
   "execution_count": 37,
   "metadata": {},
   "outputs": [],
   "source": [
    "import pandas as pd\n",
    "import numpy as np\n",
    "import matplotlib.pyplot as plt\n",
    "import seaborn as sns\n",
    "%matplotlib inline\n",
    "from lxml import html\n",
    "import requests\n",
    "import json \n",
    "from bs4 import BeautifulSoup\n",
    "from scipy import stats\n",
    "from statistics import mean \n",
    "import plotly.express as px\n",
    "import tmdbsimple as tmdb\n",
    "import pycountry"
   ]
  },
  {
   "cell_type": "markdown",
   "metadata": {},
   "source": [
    "# Introduction  & Research Question "
   ]
  },
  {
   "cell_type": "markdown",
   "metadata": {},
   "source": [
    "The advancement of technology has enabled the number of films produced worldwide to sky-rocket. Along with that, the spread of Internet accessibility and the development of Over-The-Top (OTT) on demand streaming services (i.e Netflix) have assisted the establishment of movie-watching as one of the most preferred leisure activities of individuals all over the world (“Netflix and chill”).\n",
    "\n",
    "A lot of platforms exist, that aggregate information about films (IMDB  and TMDB), where users can log, comment on and rate their favorite (or least favorite) movies. \n",
    "\n",
    "The objective of this analysis is to attempt to shine light on the association of a movie’s general characteristics and its received rating."
   ]
  },
  {
   "cell_type": "markdown",
   "metadata": {},
   "source": [
    "# Data Description"
   ]
  },
  {
   "cell_type": "markdown",
   "metadata": {},
   "source": [
    "The bulk of the information is drawn by an existing dataset from Kaggle [https://www.kaggle.com/rounakbanik/the-movies-dataset]. The associated file is a csv file, “movies_metadata.csv”, which is derived from a movie platform called TMDB (https://www.themoviedb.org/). The dataset was created on 2017 and contains the features mentioned below:\n",
    "\n",
    "*\tBudget\n",
    "*\tGenre\n",
    "*\tid (ID in TMDb)\n",
    "*\tImdb_id (ID in IMDb)\n",
    "*\tOriginal_language\n",
    "*\tpopularity \n",
    "*\tproduction_countries\n",
    "*\trelease_date\n",
    "*\trevenue\n",
    "*\truntime\n",
    "*\tspoken_languages\n",
    "*\ttitle\n",
    "*\tvote_average (the average vote existing in the TMDB website for the year 2017)\n",
    "*\tvote_count (number of votes existing in the TMDB website for the year 2017)\n",
    "\n",
    "The said dataset is extended by adding 4 extra features. The ratingCount and ratingValue of each movie provided by the IMDB website and the vote_count and vote_average provided by the TMDB website (all those features where derived at 3/1/2020). Web scraping was used for parsing data from IMDB website and the TMDB API was used for parsing data from TMDB database.\n",
    "\n",
    "Lastly, the vote average cannot always be considered as an accurate score for a movie. For instance, if a movie is rated only by one person we cannot conclude whether this movie is good or bad. For this reason, the IMDB score formula is used in order to calculate the score per movie.\n",
    "This formula provides a true 'Bayesian estimate', which takes into account the number of votes each movie has received, minimum votes required to be on the list, and the mean vote for all titles:\n",
    "\n",
    "\n",
    "weighted rating (WR) = (v ÷ (v+m)) × R + (m ÷ (v+m)) × C\n",
    "\n",
    "Where:\n",
    "\n",
    "R = average for the movie (mean) (Rating)\n",
    "\n",
    "v = number of votes for the movie (votes)\n",
    "\n",
    "m = the minimum number of votes required for the movie to be in the chart (the prerequisite) \n",
    "\n",
    "C = the mean vote across the whole report\n",
    "\n",
    "\n",
    "For al the rating provided in our dataset, the score per movie is calculated using the above formula.\n",
    "Finally we have the below extra columns:\n",
    "\n",
    "*    score: the score per movie using ratings from TMDB found at year 2017\n",
    "*    score_20: the score per movie using data from IMDB found at year 2020\n",
    "*    score_imdb: the score per movie using data from IMDB found at year 2020 \n"
   ]
  },
  {
   "cell_type": "markdown",
   "metadata": {},
   "source": [
    "# Data Acquisition "
   ]
  },
  {
   "cell_type": "markdown",
   "metadata": {},
   "source": [
    "### IMDB Web scraping"
   ]
  },
  {
   "cell_type": "code",
   "execution_count": 38,
   "metadata": {},
   "outputs": [
    {
     "name": "stderr",
     "output_type": "stream",
     "text": [
      "//anaconda3/lib/python3.7/site-packages/IPython/core/interactiveshell.py:3057: DtypeWarning:\n",
      "\n",
      "Columns (10) have mixed types. Specify dtype option on import or set low_memory=False.\n",
      "\n"
     ]
    }
   ],
   "source": [
    "#import dataset\n",
    "dataset=pd.read_csv(\"./dataset/movies_metadata.csv\")"
   ]
  },
  {
   "cell_type": "code",
   "execution_count": 39,
   "metadata": {},
   "outputs": [],
   "source": [
    "# keep only columns needed for our analysis \n",
    "dataset=dataset[['budget','genres','id','imdb_id','original_language','production_companies','production_countries','release_date','revenue','runtime','spoken_languages','title','vote_average','vote_count']]"
   ]
  },
  {
   "cell_type": "code",
   "execution_count": 40,
   "metadata": {},
   "outputs": [
    {
     "data": {
      "text/html": [
       "<div>\n",
       "<style scoped>\n",
       "    .dataframe tbody tr th:only-of-type {\n",
       "        vertical-align: middle;\n",
       "    }\n",
       "\n",
       "    .dataframe tbody tr th {\n",
       "        vertical-align: top;\n",
       "    }\n",
       "\n",
       "    .dataframe thead th {\n",
       "        text-align: right;\n",
       "    }\n",
       "</style>\n",
       "<table border=\"1\" class=\"dataframe\">\n",
       "  <thead>\n",
       "    <tr style=\"text-align: right;\">\n",
       "      <th></th>\n",
       "      <th>genres</th>\n",
       "      <th>counts</th>\n",
       "    </tr>\n",
       "  </thead>\n",
       "  <tbody>\n",
       "    <tr>\n",
       "      <th>2005</th>\n",
       "      <td>[{'id': 18, 'name': 'Drama'}]</td>\n",
       "      <td>5000</td>\n",
       "    </tr>\n",
       "    <tr>\n",
       "      <th>3203</th>\n",
       "      <td>[{'id': 35, 'name': 'Comedy'}]</td>\n",
       "      <td>3621</td>\n",
       "    </tr>\n",
       "    <tr>\n",
       "      <th>4065</th>\n",
       "      <td>[{'id': 99, 'name': 'Documentary'}]</td>\n",
       "      <td>2723</td>\n",
       "    </tr>\n",
       "    <tr>\n",
       "      <th>0</th>\n",
       "      <td>[]</td>\n",
       "      <td>2442</td>\n",
       "    </tr>\n",
       "    <tr>\n",
       "      <th>1517</th>\n",
       "      <td>[{'id': 18, 'name': 'Drama'}, {'id': 10749, 'n...</td>\n",
       "      <td>1301</td>\n",
       "    </tr>\n",
       "  </tbody>\n",
       "</table>\n",
       "</div>"
      ],
      "text/plain": [
       "                                                 genres  counts\n",
       "2005                      [{'id': 18, 'name': 'Drama'}]    5000\n",
       "3203                     [{'id': 35, 'name': 'Comedy'}]    3621\n",
       "4065                [{'id': 99, 'name': 'Documentary'}]    2723\n",
       "0                                                    []    2442\n",
       "1517  [{'id': 18, 'name': 'Drama'}, {'id': 10749, 'n...    1301"
      ]
     },
     "execution_count": 40,
     "metadata": {},
     "output_type": "execute_result"
    }
   ],
   "source": [
    "# check the are any outliers in genres column\n",
    "genres_=dataset.groupby('genres').size().reset_index(name='counts')\n",
    "genres_.sort_values('counts', ascending=False).head(5)"
   ]
  },
  {
   "cell_type": "markdown",
   "metadata": {},
   "source": [
    "### Web Scraping for data collection from IMDB website "
   ]
  },
  {
   "cell_type": "markdown",
   "metadata": {},
   "source": [
    "After examining the initial dataset empty values are found in genres field. In order to fill empty values, those data are parsed again via webscraping technique from IMDB website. Also, the number of ratings (ratingCount_imdb) and the average rating (ratingValue_imdb) per movie are parsed.\n",
    "\n",
    "The web scraping technique is quite time consuming ( + my internet connection is not the best one). In order to parse the data more quickly the initial dataset movies_metadata.csv is splitted into 13 chunks. In this way, I parallelized the process.\n",
    "\n",
    "Below can be found the implemented process for parsing those data."
   ]
  },
  {
   "cell_type": "code",
   "execution_count": null,
   "metadata": {},
   "outputs": [],
   "source": [
    "dataset[\"ratingCount_imdb\"] = np.nan\n",
    "dataset[\"ratingValue_imdb\"] = np.nan\n",
    "dataset[\"gernres_imdb\"] = np.nan\n",
    "\n",
    "ds_test=dataset\n",
    "\n",
    "url = 'https://www.imdb.com/title/'\n",
    "resp = requests.get(url)\n",
    "\n",
    "problem_=[]\n",
    "c1_=c2_=0\n",
    "cn=0\n",
    "for index,i in ds_test.iterrows():\n",
    "    cn=cn+1\n",
    "    print (index)\n",
    "    # create url per movie \n",
    "    url_= url+str(i['imdb_id'])+'/'\n",
    "    # request data from this url \n",
    "    resp = requests.get(url_)\n",
    "    # when response code is 200 then the process is successfully completed\n",
    "    if (resp.status_code == 200):\n",
    "        soup = BeautifulSoup(resp.text,  from_encoding='utf-8')\n",
    "        # parse from the response specific data \n",
    "        # data have json format\n",
    "        l=soup.find_all('script', type=\"application/ld+json\")\n",
    "        if (len(l)<1): # if data do not exists \n",
    "            print (\"soup problem\")\n",
    "            c1_=c1_+1\n",
    "        else: # if data exists parse genres, ratingCount , ratingValue fields\n",
    "            for j in l : \n",
    "                 res=j.get_text()\n",
    "            ds_test.loc[index,'parsed_data']=str(res)\n",
    "            d=json.loads(str(res))\n",
    "\n",
    "            # AggregateRating       \n",
    "            if 'aggregateRating' in d:\n",
    "                if 'ratingCount' in d['aggregateRating']:\n",
    "                    rating_Count=d['aggregateRating']['ratingCount']\n",
    "                    ds_test.loc[index,'ratingCount']=rating_Count\n",
    "                if 'ratingValue' in d['aggregateRating']:\n",
    "                    rating_Value=d['aggregateRating']['ratingValue']\n",
    "                    ds_test.loc[index,'ratingValue']=rating_Value\n",
    "\n",
    "            # Genre\n",
    "            if 'genre' in d:\n",
    "                ds_test.loc[index,'gernres_imdb']=str(d['genre'])\n",
    "                    \n",
    "    else : \n",
    "        c2_=c2_+1\n",
    "        problem_.append(i)"
   ]
  },
  {
   "cell_type": "markdown",
   "metadata": {},
   "source": [
    "The main reason that the dataset was extended with information derived from the IMDB website is that there are, roughly, more votes per movie in IMDb than there are in TMDb. So the ratings may be more indicative in terms of the public opinion formulated for every film. In addition, IMDB is considered to be more popular that TMDB so the data provided are considered to be more legitimate. This can be found  in the section below , Descriptive Statistics."
   ]
  },
  {
   "cell_type": "markdown",
   "metadata": {},
   "source": [
    "### MOVIE DB API"
   ]
  },
  {
   "cell_type": "markdown",
   "metadata": {},
   "source": [
    "In order to retrieve the current vote_average and vote_count per movie the TMDB API is used. \n",
    "\n",
    "The below procedure is parallelized by deviding the dataset into 4 chunks.\n",
    "\n",
    "Below can be found the implemented process for parsing those data."
   ]
  },
  {
   "cell_type": "code",
   "execution_count": null,
   "metadata": {},
   "outputs": [],
   "source": [
    "tmdb.API_KEY= 'a03899b97f5adf7c2de7c820c3c3f23c'\n",
    "l=dataset\n",
    "l[\"vote_count_2020\"] = np.nan\n",
    "l[\"vote_average_2020\"] = np.nan\n",
    "\n",
    "cb=0\n",
    "for index,i in l.iterrows():\n",
    "    tmdb.API_KEY= 'a03899b97f5adf7c2de7c820c3c3f23c'\n",
    "    tmdb.language = 'en'\n",
    "    movie = tmdb.Movies(i['id'])\n",
    "    try:\n",
    "        response = movie.info()\n",
    "        l.loc[index,'vote_count_2020']=movie.vote_count\n",
    "        l.loc[index,'vote_average_2020']=movie.vote_average\n",
    "    except :\n",
    "        print ('Problem')\n"
   ]
  },
  {
   "cell_type": "markdown",
   "metadata": {},
   "source": [
    "Finally, data after web scraping and API's process data is saved in './dataset/final_extended_movies.csv' file \n"
   ]
  },
  {
   "cell_type": "markdown",
   "metadata": {},
   "source": [
    "### Data Cleansing and shaping "
   ]
  },
  {
   "cell_type": "code",
   "execution_count": 57,
   "metadata": {},
   "outputs": [
    {
     "name": "stderr",
     "output_type": "stream",
     "text": [
      "//anaconda3/lib/python3.7/site-packages/IPython/core/interactiveshell.py:3057: DtypeWarning:\n",
      "\n",
      "Columns (4,6,9,14,25) have mixed types. Specify dtype option on import or set low_memory=False.\n",
      "\n"
     ]
    }
   ],
   "source": [
    "# import extended dataset\n",
    "movies_dataset=pd.read_csv('./dataset/final_extended_movies.csv')"
   ]
  },
  {
   "cell_type": "code",
   "execution_count": 58,
   "metadata": {},
   "outputs": [
    {
     "name": "stdout",
     "output_type": "stream",
     "text": [
      "<class 'pandas.core.frame.DataFrame'>\n",
      "RangeIndex: 45466 entries, 0 to 45465\n",
      "Data columns (total 36 columns):\n",
      "Unnamed: 0               45466 non-null int64\n",
      "Unnamed: 0.1             45466 non-null int64\n",
      "Unnamed: 0.1.1           45466 non-null int64\n",
      "Unnamed: 0.1.1.1         45466 non-null int64\n",
      "adult                    45466 non-null object\n",
      "belongs_to_collection    4494 non-null object\n",
      "budget                   45466 non-null object\n",
      "genres                   45466 non-null object\n",
      "homepage                 7782 non-null object\n",
      "id                       45466 non-null object\n",
      "imdb_id                  45449 non-null object\n",
      "original_language        45455 non-null object\n",
      "original_title           45466 non-null object\n",
      "overview                 44512 non-null object\n",
      "popularity               45461 non-null object\n",
      "poster_path              45080 non-null object\n",
      "production_companies     45463 non-null object\n",
      "production_countries     45463 non-null object\n",
      "release_date             45379 non-null object\n",
      "revenue                  45460 non-null float64\n",
      "runtime                  45203 non-null float64\n",
      "spoken_languages         45460 non-null object\n",
      "status                   45379 non-null object\n",
      "tagline                  20412 non-null object\n",
      "title                    45460 non-null object\n",
      "video                    45460 non-null object\n",
      "vote_average             45460 non-null float64\n",
      "vote_count               45460 non-null float64\n",
      "director_imdb            44954 non-null object\n",
      "actor_imdb               44715 non-null object\n",
      "ratingCount_imdb         45414 non-null float64\n",
      "ratingValue_imdb         45414 non-null float64\n",
      "gernres_imdb             45411 non-null object\n",
      "budget_imdb              15354 non-null object\n",
      "vote_count_2020          45099 non-null float64\n",
      "vote_average_2020        45099 non-null float64\n",
      "dtypes: float64(8), int64(4), object(24)\n",
      "memory usage: 12.5+ MB\n"
     ]
    }
   ],
   "source": [
    "movies_dataset.info()"
   ]
  },
  {
   "cell_type": "code",
   "execution_count": 59,
   "metadata": {},
   "outputs": [],
   "source": [
    "# drop first 4 columns \n",
    "movies_dataset.drop(movies_dataset.iloc[:, :4], inplace = True, axis = 1) \n",
    "# generate release year column \n",
    "movies_dataset['release_year']=movies_dataset['release_date'].apply(lambda row: str(row)[:4])\n",
    "movies_dataset=movies_dataset[movies_dataset.release_year.apply(lambda x: x.isnumeric())]\n",
    "# keep only movies (not TV-Series)\n",
    "movies_dataset=movies_dataset[movies_dataset['runtime']<float(240)]\n",
    "# keep only movies that their initial language is English \n",
    "movies_dataset=movies_dataset[movies_dataset['original_language']=='en']"
   ]
  },
  {
   "cell_type": "markdown",
   "metadata": {},
   "source": [
    "###  Calculate Score per movie"
   ]
  },
  {
   "cell_type": "code",
   "execution_count": 60,
   "metadata": {},
   "outputs": [],
   "source": [
    "df=movies_dataset"
   ]
  },
  {
   "cell_type": "code",
   "execution_count": 61,
   "metadata": {},
   "outputs": [],
   "source": [
    "# vote_average \n",
    "C_17= df['vote_average'].mean()\n",
    "# minimum votes required \n",
    "m_17= df['vote_count'].quantile(0.80)\n",
    "\n",
    "C_20= df['vote_average_2020'].mean()\n",
    "m_20= df['vote_count_2020'].quantile(0.80)\n",
    "\n",
    "C_imdb= df['ratingValue_imdb'].mean()\n",
    "m_imdb= df['ratingCount_imdb'].quantile(0.80)\n",
    "\n",
    "# keep only movies that have specific number of votes \n",
    "q_movies_2017 = df.copy().loc[df['vote_count'] >= m_17]\n",
    "q_movies_2020 = df.copy().loc[df['vote_count_2020'] >= m_20]\n",
    "q_movies_imdb = df.copy().loc[df['ratingCount_imdb'] >= m_imdb]"
   ]
  },
  {
   "cell_type": "code",
   "execution_count": 62,
   "metadata": {},
   "outputs": [],
   "source": [
    "# IMDB formula\n",
    "def weighted_rating_2017(x, m=m_17, C=C_17):\n",
    "    v = x['vote_count']\n",
    "    R = x['vote_average']\n",
    "    # Calculation based on the IMDB formula\n",
    "    return (v/(v+m) * R) + (m/(m+v) * C)\n",
    "\n",
    "def weighted_rating_2020(x, m=m_20, C=C_20):\n",
    "    v = x['vote_count_2020']\n",
    "    R = x['vote_average_2020']\n",
    "    # Calculation based on the IMDB formula\n",
    "    return (v/(v+m) * R) + (m/(m+v) * C)\n",
    "\n",
    "def weighted_rating_imdb(x, m=m_imdb, C=C_imdb):\n",
    "    v = x['ratingCount_imdb']\n",
    "    R = x['ratingValue_imdb']\n",
    "    # Calculation based on the IMDB formula\n",
    "    return (v/(v+m) * R) + (m/(m+v) * C)"
   ]
  },
  {
   "cell_type": "code",
   "execution_count": 63,
   "metadata": {},
   "outputs": [],
   "source": [
    "q_movies_2017['score_17'] = q_movies_2017.apply(weighted_rating_2017, axis=1)\n",
    "q_movies_2017=q_movies_2017.sort_values('score_17', ascending=False)\n",
    "# q_movies_2017[['title','score_17','vote_count','vote_average']].head(10)"
   ]
  },
  {
   "cell_type": "code",
   "execution_count": 64,
   "metadata": {},
   "outputs": [],
   "source": [
    "q_movies_2020['score_20'] = q_movies_2020.apply(weighted_rating_2020, axis=1)\n",
    "q_movies_2020=q_movies_2020.sort_values('score_20', ascending=False)\n",
    "#q_movies_2020[['title','score_20','vote_count_2020','vote_average_2020']].head(10)"
   ]
  },
  {
   "cell_type": "code",
   "execution_count": 65,
   "metadata": {},
   "outputs": [],
   "source": [
    "q_movies_imdb['score_imdb'] = q_movies_imdb.apply(weighted_rating_imdb, axis=1)\n",
    "q_movies_imdb=q_movies_imdb.sort_values('score_imdb', ascending=False)\n",
    "#q_movies_imdb[['title','score_imdb','ratingCount_imdb','ratingValue_imdb','runtime']].head(10)"
   ]
  },
  {
   "cell_type": "code",
   "execution_count": 66,
   "metadata": {},
   "outputs": [],
   "source": [
    "# inner join the three datasets in order to keep only common movies that will be used for our analysis \n",
    "merged_inner1 = pd.merge(left=q_movies_2017,right=q_movies_2020, left_on='id', right_on='id')\n",
    "merged_inner1=merged_inner1[['adult_x','belongs_to_collection_x','budget_x','genres_x','id','imdb_id_x','original_language_x','original_title_x','popularity_x','production_companies_x','production_countries_x','release_date_x','revenue_x','runtime_x','spoken_languages_x','title_x','vote_average_x','vote_count_x','director_imdb_x','actor_imdb_x','ratingCount_imdb_x','ratingValue_imdb_x','gernres_imdb_x','vote_count_2020_x','vote_average_2020_x','release_year_x','score_20','score_17']]\n",
    "merged_inner2 = pd.merge(left=merged_inner1,right=q_movies_imdb, left_on='id', right_on='id')\n",
    "merged_inner2=merged_inner2[['adult_x','belongs_to_collection_x','budget_x','genres_x','id','imdb_id_x','original_language_x','original_title_x','popularity_x','production_companies_x','production_countries_x','release_date_x','revenue_x','runtime_x','spoken_languages_x','title_x','vote_average_x','vote_count_x','director_imdb_x','actor_imdb_x','ratingCount_imdb_x','ratingValue_imdb_x','gernres_imdb_x','vote_count_2020_x','vote_average_2020_x','release_year_x','score_20','score_17','score_imdb']]\n",
    "merged_inner2.columns = ['adult','belongs_to_collection','budget','genres','id','imdb_id','original_language','original_title','popularity','production_companies','production_countries','release_date','revenue','runtime','spoken_languages','title','vote_average','vote_count','director_imdb','actor_imdb','ratingCount_imdb','ratingValue_imdb','gernres_imdb','vote_count_2020','vote_average_2020','release_year','score_20','score_17','score_imdb']"
   ]
  },
  {
   "cell_type": "code",
   "execution_count": 67,
   "metadata": {},
   "outputs": [
    {
     "data": {
      "text/plain": [
       "(5681, 29)"
      ]
     },
     "execution_count": 67,
     "metadata": {},
     "output_type": "execute_result"
    }
   ],
   "source": [
    "final=merged_inner2\n",
    "final.shape\n",
    "# So the number of movies used for our analysis are 5681"
   ]
  },
  {
   "cell_type": "markdown",
   "metadata": {},
   "source": [
    "Generate release year column per movie and decade that the movie was released"
   ]
  },
  {
   "cell_type": "code",
   "execution_count": 68,
   "metadata": {},
   "outputs": [],
   "source": [
    "# find release year per movie\n",
    "final['release_year']=final['release_date'].apply(lambda row: str(row)[:4])\n",
    "final=final[final.release_year.apply(lambda x: x.isnumeric())]\n",
    "final['release_year']=final['release_year'].astype(int)\n",
    "# convert budget to numeric value \n",
    "final[\"budget\"] = pd.to_numeric(final[\"budget\"])"
   ]
  },
  {
   "cell_type": "code",
   "execution_count": 69,
   "metadata": {},
   "outputs": [],
   "source": [
    "# create column decade per movie \n",
    "for index,i in final.iterrows():\n",
    "    i=i['release_year']\n",
    "    if   i>=1870 and i<1880: final.loc[index,'decade']='1870-80'\n",
    "    elif i>=1880 and i<1890: final.loc[index,'decade']='1880-90'\n",
    "    elif i>=1890 and i<1900: final.loc[index,'decade']='1890-00'\n",
    "    elif i>=1900 and i<1910: final.loc[index,'decade']='1900-10'      \n",
    "    elif i>=1910 and i<1920: final.loc[index,'decade']='1910-20'\n",
    "    elif i>=1920 and i<1930: final.loc[index,'decade']='1920-30'\n",
    "    elif i>=1930 and i<1940: final.loc[index,'decade']='1930-40'\n",
    "    elif i>=1940 and i<1950: final.loc[index,'decade']='1940-50'       \n",
    "    elif i>=1950 and i<1960: final.loc[index,'decade']='1950-60'       \n",
    "    elif i>=1960 and i<1970: final.loc[index,'decade']='1960-70'      \n",
    "    elif i>=1970 and i<1980: final.loc[index,'decade']='1970-80'       \n",
    "    elif i>=1980 and i<1990: final.loc[index,'decade']='1980-90'       \n",
    "    elif i>=1990 and i<2000: final.loc[index,'decade']='1990-10'       \n",
    "    elif i>=2000 and i<2010: final.loc[index,'decade']='2000-10'\n",
    "    elif i>=2010 and i<2020: final.loc[index,'decade']='2010-18'    \n",
    "        "
   ]
  },
  {
   "cell_type": "code",
   "execution_count": 70,
   "metadata": {},
   "outputs": [
    {
     "name": "stdout",
     "output_type": "stream",
     "text": [
      "<class 'pandas.core.frame.DataFrame'>\n",
      "Int64Index: 5681 entries, 0 to 5680\n",
      "Data columns (total 30 columns):\n",
      "adult                    5681 non-null object\n",
      "belongs_to_collection    1369 non-null object\n",
      "budget                   5681 non-null int64\n",
      "genres                   5681 non-null object\n",
      "id                       5681 non-null object\n",
      "imdb_id                  5681 non-null object\n",
      "original_language        5681 non-null object\n",
      "original_title           5681 non-null object\n",
      "popularity               5681 non-null object\n",
      "production_companies     5681 non-null object\n",
      "production_countries     5681 non-null object\n",
      "release_date             5681 non-null object\n",
      "revenue                  5681 non-null float64\n",
      "runtime                  5681 non-null float64\n",
      "spoken_languages         5681 non-null object\n",
      "title                    5681 non-null object\n",
      "vote_average             5681 non-null float64\n",
      "vote_count               5681 non-null float64\n",
      "director_imdb            5680 non-null object\n",
      "actor_imdb               5675 non-null object\n",
      "ratingCount_imdb         5681 non-null float64\n",
      "ratingValue_imdb         5681 non-null float64\n",
      "gernres_imdb             5681 non-null object\n",
      "vote_count_2020          5681 non-null float64\n",
      "vote_average_2020        5681 non-null float64\n",
      "release_year             5681 non-null int64\n",
      "score_20                 5681 non-null float64\n",
      "score_17                 5681 non-null float64\n",
      "score_imdb               5681 non-null float64\n",
      "decade                   5681 non-null object\n",
      "dtypes: float64(11), int64(2), object(17)\n",
      "memory usage: 1.5+ MB\n"
     ]
    }
   ],
   "source": [
    " final.info()"
   ]
  },
  {
   "cell_type": "code",
   "execution_count": 23,
   "metadata": {},
   "outputs": [],
   "source": [
    "# save data to file in order to use it for Part 2 \n",
    "final.to_csv('./dataset/final.csv')"
   ]
  },
  {
   "cell_type": "markdown",
   "metadata": {},
   "source": [
    "# Descriptive statistics"
   ]
  },
  {
   "cell_type": "code",
   "execution_count": 71,
   "metadata": {},
   "outputs": [
    {
     "data": {
      "image/png": "[encoded data removed]",
      "text/plain": [
       "<Figure size 1080x360 with 2 Axes>"
      ]
     },
     "metadata": {
      "needs_background": "light"
     },
     "output_type": "display_data"
    }
   ],
   "source": [
    "fig = plt.figure(figsize=(15,5))\n",
    "fig.subplots_adjust( wspace=0.2)\n",
    "ax1 = fig.add_subplot(1, 2 ,1)\n",
    "ax2 = fig.add_subplot(1, 2, 2)\n",
    "# Figure 1\n",
    "sns.distplot(final['score_17'], ax=ax1)\n",
    "sns.distplot(final['score_20'], ax=ax1)\n",
    "sns.distplot(final['score_imdb'], ax=ax1)\n",
    "fig.legend(labels=['movie score TMDB(2017)','movie score TMDB(2020)','movie score IMDB(2020)'],loc='upper right', bbox_to_anchor=(0.23,0.81) )\n",
    "ax1.set_xlabel('score value',  fontsize=13)     \n",
    "ax1.grid(True)\n",
    "# Figure 2\n",
    "sns.distplot(final['vote_average'], ax=ax2)\n",
    "sns.distplot(final['vote_average_2020'], ax=ax2)\n",
    "sns.distplot(final['ratingValue_imdb'], ax=ax2)\n",
    "ax2.set_xlabel('rating value',  fontsize=13)     \n",
    "fig.legend(labels=['vote average TMDB(2017)','vote average TMDB(2020)','vote average IMDB(2020)'],loc='upper right', bbox_to_anchor=(0.66,0.81))\n",
    "ax2.grid(True)\n"
   ]
  },
  {
   "cell_type": "markdown",
   "metadata": {},
   "source": [
    "The first presented plot is a histogram of the score values of the movies. The scores are clustered into three separate subgroups. One for the movie score according to TMDb in 2017 (blue), one for the movie score according to TMDb in 2020 (orange) and one for the movie score according to IMDb in 2020 (green). We infer a distribution line for every one of the subgroups (different colors) presented in the histogram. We observe that each one of the separate distributions resembles the Gaussian. The mean of the score of IMDb movies (around 6.5) is a little higher than the TMDb score (around 6.2) for the same year (2020). The mean of the TMDb score for 2017 is the lowest among the three (around 6.1).\n",
    "\n",
    "The same, pretty much, holds for the second histogram presented for the rating value. We can notice that the mean of the rating value for TMDb in 2020 is roughly the same as the same metric in 2017."
   ]
  },
  {
   "cell_type": "code",
   "execution_count": 72,
   "metadata": {},
   "outputs": [
    {
     "data": {
      "image/png": "[encoded data removed]",
      "text/plain": [
       "<Figure size 1080x360 with 3 Axes>"
      ]
     },
     "metadata": {
      "needs_background": "light"
     },
     "output_type": "display_data"
    }
   ],
   "source": [
    "fig = plt.figure(figsize=(15,5))\n",
    "fig.subplots_adjust( wspace=0.25)\n",
    "ax1 = fig.add_subplot(1, 3 ,1)\n",
    "ax2 = fig.add_subplot(1, 3, 2)\n",
    "ax3 = fig.add_subplot(1, 3, 3)\n",
    "# Figure 1\n",
    "sns.distplot(final['vote_count'], ax=ax1)\n",
    "plt.xlabel('Number of votes (TMDB Year=2017)')\n",
    "ax1.grid(True)\n",
    "# Figure 2\n",
    "sns.distplot(final['vote_count_2020'], ax=ax2)\n",
    "plt.xlabel('Number of votes (TMDB Year=2020)')\n",
    "ax2.grid(True)\n",
    "# Figure 3\n",
    "sns.distplot(final['ratingCount_imdb'], ax=ax3)\n",
    "plt.xlabel('Number of votes (IMDB Year=2020)')\n",
    "ax3.grid(True)\n"
   ]
  },
  {
   "cell_type": "markdown",
   "metadata": {},
   "source": [
    "All graphs are left skewed which shows tha people do not vote that much. However, there are much more ratings in IMDB database than in TMDB database, so the results from IMDB are more indicative."
   ]
  },
  {
   "cell_type": "code",
   "execution_count": 73,
   "metadata": {},
   "outputs": [
    {
     "data": {
      "image/png": "[encoded data removed]",
      "text/plain": [
       "<Figure size 1080x360 with 2 Axes>"
      ]
     },
     "metadata": {
      "needs_background": "light"
     },
     "output_type": "display_data"
    }
   ],
   "source": [
    "fig = plt.figure(figsize=(15,5))\n",
    "fig.subplots_adjust( wspace=0.2)\n",
    "ax1 = fig.add_subplot(1, 2 ,1)\n",
    "ax2 = fig.add_subplot(1, 2, 2)\n",
    "\n",
    "# Figure 1\n",
    "runtime_=final[final['runtime']>30]\n",
    "sns.distplot(runtime_['runtime'], ax=ax1)\n",
    "ax1.set_xlabel('runtime',  fontsize=13)     \n",
    "ax1.grid(True)\n",
    "\n",
    "# Figure 2\n",
    "budget_=final[final['budget']>10000]\n",
    "sns.distplot(budget_['budget'], ax=ax2)\n",
    "ax2.set_xlabel('budget',  fontsize=13)     \n",
    "ax2.grid(True)"
   ]
  },
  {
   "cell_type": "code",
   "execution_count": 75,
   "metadata": {},
   "outputs": [
    {
     "data": {
      "text/plain": [
       "budget\n",
       "0      1397\n",
       "1         4\n",
       "5         1\n",
       "6         1\n",
       "8         2\n",
       "28        1\n",
       "30        1\n",
       "93        1\n",
       "108       1\n",
       "113       1\n",
       "dtype: int64"
      ]
     },
     "execution_count": 75,
     "metadata": {},
     "output_type": "execute_result"
    }
   ],
   "source": [
    "final.groupby(['budget']).size()[:10]"
   ]
  },
  {
   "cell_type": "code",
   "execution_count": 76,
   "metadata": {},
   "outputs": [
    {
     "data": {
      "text/html": [
       "<div>\n",
       "<style scoped>\n",
       "    .dataframe tbody tr th:only-of-type {\n",
       "        vertical-align: middle;\n",
       "    }\n",
       "\n",
       "    .dataframe tbody tr th {\n",
       "        vertical-align: top;\n",
       "    }\n",
       "\n",
       "    .dataframe thead th {\n",
       "        text-align: right;\n",
       "    }\n",
       "</style>\n",
       "<table border=\"1\" class=\"dataframe\">\n",
       "  <thead>\n",
       "    <tr style=\"text-align: right;\">\n",
       "      <th></th>\n",
       "      <th>0</th>\n",
       "    </tr>\n",
       "    <tr>\n",
       "      <th>runtime</th>\n",
       "      <th></th>\n",
       "    </tr>\n",
       "  </thead>\n",
       "  <tbody>\n",
       "    <tr>\n",
       "      <th>100.0</th>\n",
       "      <td>180</td>\n",
       "    </tr>\n",
       "    <tr>\n",
       "      <th>97.0</th>\n",
       "      <td>164</td>\n",
       "    </tr>\n",
       "    <tr>\n",
       "      <th>95.0</th>\n",
       "      <td>159</td>\n",
       "    </tr>\n",
       "    <tr>\n",
       "      <th>98.0</th>\n",
       "      <td>154</td>\n",
       "    </tr>\n",
       "    <tr>\n",
       "      <th>90.0</th>\n",
       "      <td>153</td>\n",
       "    </tr>\n",
       "  </tbody>\n",
       "</table>\n",
       "</div>"
      ],
      "text/plain": [
       "           0\n",
       "runtime     \n",
       "100.0    180\n",
       "97.0     164\n",
       "95.0     159\n",
       "98.0     154\n",
       "90.0     153"
      ]
     },
     "execution_count": 76,
     "metadata": {},
     "output_type": "execute_result"
    }
   ],
   "source": [
    "runtime=pd.DataFrame(final.groupby(['runtime']).size())\n",
    "runtime.sort_values(by=[0], inplace=True, ascending=False)\n",
    "runtime.head()"
   ]
  },
  {
   "cell_type": "markdown",
   "metadata": {},
   "source": [
    "We present a histogram of the duration (runtime) of the movies presented in the dataset and infer a distribution line. We notice that the duration resembles the normal distribution and the mean duration is approximately 100 minutes. \n",
    "\n",
    "The same is done for the movies budget and we notice that the mean budget is less than a million dollars.\n",
    "Also, in approximatelly 25% cases the budget is invalid close to 0 dollars."
   ]
  },
  {
   "cell_type": "code",
   "execution_count": 35,
   "metadata": {},
   "outputs": [
    {
     "data": {
      "text/html": [
       "        <script type=\"text/javascript\">\n",
       "        window.PlotlyConfig = {MathJaxConfig: 'local'};\n",
       "        if (window.MathJax) {MathJax.Hub.Config({SVG: {font: \"STIX-Web\"}});}\n",
       "        if (typeof require !== 'undefined') {\n",
       "        require.undef(\"plotly\");\n",
       "        requirejs.config({\n",
       "            paths: {\n",
       "                'plotly': ['https://cdn.plot.ly/plotly-latest.min']\n",
       "            }\n",
       "        });\n",
       "        require(['plotly'], function(Plotly) {\n",
       "            window._Plotly = Plotly;\n",
       "        });\n",
       "        }\n",
       "        </script>\n",
       "        "
      ]
     },
     "metadata": {},
     "output_type": "display_data"
    },
    {
     "data": {
      "application/vnd.plotly.v1+json": {
       "config": {
        "plotlyServerURL": "https://plot.ly"
       },
       "data": [
        {
         "domain": {
          "x": [
           0,
           1
          ],
          "y": [
           0,
           1
          ]
         },
         "hoverlabel": {
          "namelength": 0
         },
         "hovertemplate": "decade=%{label}<br>counts=%{value}",
         "labels": [
          "1900-10",
          "1910-20",
          "1920-30",
          "1930-40",
          "1940-50",
          "1950-60",
          "1960-70",
          "1970-80",
          "1980-90",
          "1990-10",
          "2000-10",
          "2010-18"
         ],
         "legendgroup": "",
         "name": "",
         "showlegend": true,
         "type": "pie",
         "values": [
          1,
          1,
          8,
          33,
          64,
          97,
          125,
          233,
          553,
          963,
          1800,
          1803
         ]
        }
       ],
       "layout": {
        "legend": {
         "tracegroupgap": 0
        },
        "template": {
         "data": {
          "bar": [
           {
            "error_x": {
             "color": "#2a3f5f"
            },
            "error_y": {
             "color": "#2a3f5f"
            },
            "marker": {
             "line": {
              "color": "#E5ECF6",
              "width": 0.5
             }
            },
            "type": "bar"
           }
          ],
          "barpolar": [
           {
            "marker": {
             "line": {
              "color": "#E5ECF6",
              "width": 0.5
             }
            },
            "type": "barpolar"
           }
          ],
          "carpet": [
           {
            "aaxis": {
             "endlinecolor": "#2a3f5f",
             "gridcolor": "white",
             "linecolor": "white",
             "minorgridcolor": "white",
             "startlinecolor": "#2a3f5f"
            },
            "baxis": {
             "endlinecolor": "#2a3f5f",
             "gridcolor": "white",
             "linecolor": "white",
             "minorgridcolor": "white",
             "startlinecolor": "#2a3f5f"
            },
            "type": "carpet"
           }
          ],
          "choropleth": [
           {
            "colorbar": {
             "outlinewidth": 0,
             "ticks": ""
            },
            "type": "choropleth"
           }
          ],
          "contour": [
           {
            "colorbar": {
             "outlinewidth": 0,
             "ticks": ""
            },
            "colorscale": [
             [
              0,
              "#0d0887"
             ],
             [
              0.1111111111111111,
              "#46039f"
             ],
             [
              0.2222222222222222,
              "#7201a8"
             ],
             [
              0.3333333333333333,
              "#9c179e"
             ],
             [
              0.4444444444444444,
              "#bd3786"
             ],
             [
              0.5555555555555556,
              "#d8576b"
             ],
             [
              0.6666666666666666,
              "#ed7953"
             ],
             [
              0.7777777777777778,
              "#fb9f3a"
             ],
             [
              0.8888888888888888,
              "#fdca26"
             ],
             [
              1,
              "#f0f921"
             ]
            ],
            "type": "contour"
           }
          ],
          "contourcarpet": [
           {
            "colorbar": {
             "outlinewidth": 0,
             "ticks": ""
            },
            "type": "contourcarpet"
           }
          ],
          "heatmap": [
           {
            "colorbar": {
             "outlinewidth": 0,
             "ticks": ""
            },
            "colorscale": [
             [
              0,
              "#0d0887"
             ],
             [
              0.1111111111111111,
              "#46039f"
             ],
             [
              0.2222222222222222,
              "#7201a8"
             ],
             [
              0.3333333333333333,
              "#9c179e"
             ],
             [
              0.4444444444444444,
              "#bd3786"
             ],
             [
              0.5555555555555556,
              "#d8576b"
             ],
             [
              0.6666666666666666,
              "#ed7953"
             ],
             [
              0.7777777777777778,
              "#fb9f3a"
             ],
             [
              0.8888888888888888,
              "#fdca26"
             ],
             [
              1,
              "#f0f921"
             ]
            ],
            "type": "heatmap"
           }
          ],
          "heatmapgl": [
           {
            "colorbar": {
             "outlinewidth": 0,
             "ticks": ""
            },
            "colorscale": [
             [
              0,
              "#0d0887"
             ],
             [
              0.1111111111111111,
              "#46039f"
             ],
             [
              0.2222222222222222,
              "#7201a8"
             ],
             [
              0.3333333333333333,
              "#9c179e"
             ],
             [
              0.4444444444444444,
              "#bd3786"
             ],
             [
              0.5555555555555556,
              "#d8576b"
             ],
             [
              0.6666666666666666,
              "#ed7953"
             ],
             [
              0.7777777777777778,
              "#fb9f3a"
             ],
             [
              0.8888888888888888,
              "#fdca26"
             ],
             [
              1,
              "#f0f921"
             ]
            ],
            "type": "heatmapgl"
           }
          ],
          "histogram": [
           {
            "marker": {
             "colorbar": {
              "outlinewidth": 0,
              "ticks": ""
             }
            },
            "type": "histogram"
           }
          ],
          "histogram2d": [
           {
            "colorbar": {
             "outlinewidth": 0,
             "ticks": ""
            },
            "colorscale": [
             [
              0,
              "#0d0887"
             ],
             [
              0.1111111111111111,
              "#46039f"
             ],
             [
              0.2222222222222222,
              "#7201a8"
             ],
             [
              0.3333333333333333,
              "#9c179e"
             ],
             [
              0.4444444444444444,
              "#bd3786"
             ],
             [
              0.5555555555555556,
              "#d8576b"
             ],
             [
              0.6666666666666666,
              "#ed7953"
             ],
             [
              0.7777777777777778,
              "#fb9f3a"
             ],
             [
              0.8888888888888888,
              "#fdca26"
             ],
             [
              1,
              "#f0f921"
             ]
            ],
            "type": "histogram2d"
           }
          ],
          "histogram2dcontour": [
           {
            "colorbar": {
             "outlinewidth": 0,
             "ticks": ""
            },
            "colorscale": [
             [
              0,
              "#0d0887"
             ],
             [
              0.1111111111111111,
              "#46039f"
             ],
             [
              0.2222222222222222,
              "#7201a8"
             ],
             [
              0.3333333333333333,
              "#9c179e"
             ],
             [
              0.4444444444444444,
              "#bd3786"
             ],
             [
              0.5555555555555556,
              "#d8576b"
             ],
             [
              0.6666666666666666,
              "#ed7953"
             ],
             [
              0.7777777777777778,
              "#fb9f3a"
             ],
             [
              0.8888888888888888,
              "#fdca26"
             ],
             [
              1,
              "#f0f921"
             ]
            ],
            "type": "histogram2dcontour"
           }
          ],
          "mesh3d": [
           {
            "colorbar": {
             "outlinewidth": 0,
             "ticks": ""
            },
            "type": "mesh3d"
           }
          ],
          "parcoords": [
           {
            "line": {
             "colorbar": {
              "outlinewidth": 0,
              "ticks": ""
             }
            },
            "type": "parcoords"
           }
          ],
          "pie": [
           {
            "automargin": true,
            "type": "pie"
           }
          ],
          "scatter": [
           {
            "marker": {
             "colorbar": {
              "outlinewidth": 0,
              "ticks": ""
             }
            },
            "type": "scatter"
           }
          ],
          "scatter3d": [
           {
            "line": {
             "colorbar": {
              "outlinewidth": 0,
              "ticks": ""
             }
            },
            "marker": {
             "colorbar": {
              "outlinewidth": 0,
              "ticks": ""
             }
            },
            "type": "scatter3d"
           }
          ],
          "scattercarpet": [
           {
            "marker": {
             "colorbar": {
              "outlinewidth": 0,
              "ticks": ""
             }
            },
            "type": "scattercarpet"
           }
          ],
          "scattergeo": [
           {
            "marker": {
             "colorbar": {
              "outlinewidth": 0,
              "ticks": ""
             }
            },
            "type": "scattergeo"
           }
          ],
          "scattergl": [
           {
            "marker": {
             "colorbar": {
              "outlinewidth": 0,
              "ticks": ""
             }
            },
            "type": "scattergl"
           }
          ],
          "scattermapbox": [
           {
            "marker": {
             "colorbar": {
              "outlinewidth": 0,
              "ticks": ""
             }
            },
            "type": "scattermapbox"
           }
          ],
          "scatterpolar": [
           {
            "marker": {
             "colorbar": {
              "outlinewidth": 0,
              "ticks": ""
             }
            },
            "type": "scatterpolar"
           }
          ],
          "scatterpolargl": [
           {
            "marker": {
             "colorbar": {
              "outlinewidth": 0,
              "ticks": ""
             }
            },
            "type": "scatterpolargl"
           }
          ],
          "scatterternary": [
           {
            "marker": {
             "colorbar": {
              "outlinewidth": 0,
              "ticks": ""
             }
            },
            "type": "scatterternary"
           }
          ],
          "surface": [
           {
            "colorbar": {
             "outlinewidth": 0,
             "ticks": ""
            },
            "colorscale": [
             [
              0,
              "#0d0887"
             ],
             [
              0.1111111111111111,
              "#46039f"
             ],
             [
              0.2222222222222222,
              "#7201a8"
             ],
             [
              0.3333333333333333,
              "#9c179e"
             ],
             [
              0.4444444444444444,
              "#bd3786"
             ],
             [
              0.5555555555555556,
              "#d8576b"
             ],
             [
              0.6666666666666666,
              "#ed7953"
             ],
             [
              0.7777777777777778,
              "#fb9f3a"
             ],
             [
              0.8888888888888888,
              "#fdca26"
             ],
             [
              1,
              "#f0f921"
             ]
            ],
            "type": "surface"
           }
          ],
          "table": [
           {
            "cells": {
             "fill": {
              "color": "#EBF0F8"
             },
             "line": {
              "color": "white"
             }
            },
            "header": {
             "fill": {
              "color": "#C8D4E3"
             },
             "line": {
              "color": "white"
             }
            },
            "type": "table"
           }
          ]
         },
         "layout": {
          "annotationdefaults": {
           "arrowcolor": "#2a3f5f",
           "arrowhead": 0,
           "arrowwidth": 1
          },
          "coloraxis": {
           "colorbar": {
            "outlinewidth": 0,
            "ticks": ""
           }
          },
          "colorscale": {
           "diverging": [
            [
             0,
             "#8e0152"
            ],
            [
             0.1,
             "#c51b7d"
            ],
            [
             0.2,
             "#de77ae"
            ],
            [
             0.3,
             "#f1b6da"
            ],
            [
             0.4,
             "#fde0ef"
            ],
            [
             0.5,
             "#f7f7f7"
            ],
            [
             0.6,
             "#e6f5d0"
            ],
            [
             0.7,
             "#b8e186"
            ],
            [
             0.8,
             "#7fbc41"
            ],
            [
             0.9,
             "#4d9221"
            ],
            [
             1,
             "#276419"
            ]
           ],
           "sequential": [
            [
             0,
             "#0d0887"
            ],
            [
             0.1111111111111111,
             "#46039f"
            ],
            [
             0.2222222222222222,
             "#7201a8"
            ],
            [
             0.3333333333333333,
             "#9c179e"
            ],
            [
             0.4444444444444444,
             "#bd3786"
            ],
            [
             0.5555555555555556,
             "#d8576b"
            ],
            [
             0.6666666666666666,
             "#ed7953"
            ],
            [
             0.7777777777777778,
             "#fb9f3a"
            ],
            [
             0.8888888888888888,
             "#fdca26"
            ],
            [
             1,
             "#f0f921"
            ]
           ],
           "sequentialminus": [
            [
             0,
             "#0d0887"
            ],
            [
             0.1111111111111111,
             "#46039f"
            ],
            [
             0.2222222222222222,
             "#7201a8"
            ],
            [
             0.3333333333333333,
             "#9c179e"
            ],
            [
             0.4444444444444444,
             "#bd3786"
            ],
            [
             0.5555555555555556,
             "#d8576b"
            ],
            [
             0.6666666666666666,
             "#ed7953"
            ],
            [
             0.7777777777777778,
             "#fb9f3a"
            ],
            [
             0.8888888888888888,
             "#fdca26"
            ],
            [
             1,
             "#f0f921"
            ]
           ]
          },
          "colorway": [
           "#636efa",
           "#EF553B",
           "#00cc96",
           "#ab63fa",
           "#FFA15A",
           "#19d3f3",
           "#FF6692",
           "#B6E880",
           "#FF97FF",
           "#FECB52"
          ],
          "font": {
           "color": "#2a3f5f"
          },
          "geo": {
           "bgcolor": "white",
           "lakecolor": "white",
           "landcolor": "#E5ECF6",
           "showlakes": true,
           "showland": true,
           "subunitcolor": "white"
          },
          "hoverlabel": {
           "align": "left"
          },
          "hovermode": "closest",
          "mapbox": {
           "style": "light"
          },
          "paper_bgcolor": "white",
          "plot_bgcolor": "#E5ECF6",
          "polar": {
           "angularaxis": {
            "gridcolor": "white",
            "linecolor": "white",
            "ticks": ""
           },
           "bgcolor": "#E5ECF6",
           "radialaxis": {
            "gridcolor": "white",
            "linecolor": "white",
            "ticks": ""
           }
          },
          "scene": {
           "xaxis": {
            "backgroundcolor": "#E5ECF6",
            "gridcolor": "white",
            "gridwidth": 2,
            "linecolor": "white",
            "showbackground": true,
            "ticks": "",
            "zerolinecolor": "white"
           },
           "yaxis": {
            "backgroundcolor": "#E5ECF6",
            "gridcolor": "white",
            "gridwidth": 2,
            "linecolor": "white",
            "showbackground": true,
            "ticks": "",
            "zerolinecolor": "white"
           },
           "zaxis": {
            "backgroundcolor": "#E5ECF6",
            "gridcolor": "white",
            "gridwidth": 2,
            "linecolor": "white",
            "showbackground": true,
            "ticks": "",
            "zerolinecolor": "white"
           }
          },
          "shapedefaults": {
           "line": {
            "color": "#2a3f5f"
           }
          },
          "ternary": {
           "aaxis": {
            "gridcolor": "white",
            "linecolor": "white",
            "ticks": ""
           },
           "baxis": {
            "gridcolor": "white",
            "linecolor": "white",
            "ticks": ""
           },
           "bgcolor": "#E5ECF6",
           "caxis": {
            "gridcolor": "white",
            "linecolor": "white",
            "ticks": ""
           }
          },
          "title": {
           "x": 0.05
          },
          "xaxis": {
           "automargin": true,
           "gridcolor": "white",
           "linecolor": "white",
           "ticks": "",
           "title": {
            "standoff": 15
           },
           "zerolinecolor": "white",
           "zerolinewidth": 2
          },
          "yaxis": {
           "automargin": true,
           "gridcolor": "white",
           "linecolor": "white",
           "ticks": "",
           "title": {
            "standoff": 15
           },
           "zerolinecolor": "white",
           "zerolinewidth": 2
          }
         }
        },
        "title": {
         "text": "Number of movies per decade"
        }
       }
      },
      "text/html": [
       "<div>\n",
       "        \n",
       "        \n",
       "            <div id=\"c87a4e31-ef1f-433f-9ff2-1dcca3f1dc5c\" class=\"plotly-graph-div\" style=\"height:525px; width:100%;\"></div>\n",
       "            <script type=\"text/javascript\">\n",
       "                require([\"plotly\"], function(Plotly) {\n",
       "                    window.PLOTLYENV=window.PLOTLYENV || {};\n",
       "                    \n",
       "                if (document.getElementById(\"c87a4e31-ef1f-433f-9ff2-1dcca3f1dc5c\")) {\n",
       "                    Plotly.newPlot(\n",
       "                        'c87a4e31-ef1f-433f-9ff2-1dcca3f1dc5c',\n",
       "                        [{\"domain\": {\"x\": [0.0, 1.0], \"y\": [0.0, 1.0]}, \"hoverlabel\": {\"namelength\": 0}, \"hovertemplate\": \"decade=%{label}<br>counts=%{value}\", \"labels\": [\"1900-10\", \"1910-20\", \"1920-30\", \"1930-40\", \"1940-50\", \"1950-60\", \"1960-70\", \"1970-80\", \"1980-90\", \"1990-10\", \"2000-10\", \"2010-18\"], \"legendgroup\": \"\", \"name\": \"\", \"showlegend\": true, \"type\": \"pie\", \"values\": [1, 1, 8, 33, 64, 97, 125, 233, 553, 963, 1800, 1803]}],\n",
       "                        {\"legend\": {\"tracegroupgap\": 0}, \"template\": {\"data\": {\"bar\": [{\"error_x\": {\"color\": \"#2a3f5f\"}, \"error_y\": {\"color\": \"#2a3f5f\"}, \"marker\": {\"line\": {\"color\": \"#E5ECF6\", \"width\": 0.5}}, \"type\": \"bar\"}], \"barpolar\": [{\"marker\": {\"line\": {\"color\": \"#E5ECF6\", \"width\": 0.5}}, \"type\": \"barpolar\"}], \"carpet\": [{\"aaxis\": {\"endlinecolor\": \"#2a3f5f\", \"gridcolor\": \"white\", \"linecolor\": \"white\", \"minorgridcolor\": \"white\", \"startlinecolor\": \"#2a3f5f\"}, \"baxis\": {\"endlinecolor\": \"#2a3f5f\", \"gridcolor\": \"white\", \"linecolor\": \"white\", \"minorgridcolor\": \"white\", \"startlinecolor\": \"#2a3f5f\"}, \"type\": \"carpet\"}], \"choropleth\": [{\"colorbar\": {\"outlinewidth\": 0, \"ticks\": \"\"}, \"type\": \"choropleth\"}], \"contour\": [{\"colorbar\": {\"outlinewidth\": 0, \"ticks\": \"\"}, \"colorscale\": [[0.0, \"#0d0887\"], [0.1111111111111111, \"#46039f\"], [0.2222222222222222, \"#7201a8\"], [0.3333333333333333, \"#9c179e\"], [0.4444444444444444, \"#bd3786\"], [0.5555555555555556, \"#d8576b\"], [0.6666666666666666, \"#ed7953\"], [0.7777777777777778, \"#fb9f3a\"], [0.8888888888888888, \"#fdca26\"], [1.0, \"#f0f921\"]], \"type\": \"contour\"}], \"contourcarpet\": [{\"colorbar\": {\"outlinewidth\": 0, \"ticks\": \"\"}, \"type\": \"contourcarpet\"}], \"heatmap\": [{\"colorbar\": {\"outlinewidth\": 0, \"ticks\": \"\"}, \"colorscale\": [[0.0, \"#0d0887\"], [0.1111111111111111, \"#46039f\"], [0.2222222222222222, \"#7201a8\"], [0.3333333333333333, \"#9c179e\"], [0.4444444444444444, \"#bd3786\"], [0.5555555555555556, \"#d8576b\"], [0.6666666666666666, \"#ed7953\"], [0.7777777777777778, \"#fb9f3a\"], [0.8888888888888888, \"#fdca26\"], [1.0, \"#f0f921\"]], \"type\": \"heatmap\"}], \"heatmapgl\": [{\"colorbar\": {\"outlinewidth\": 0, \"ticks\": \"\"}, \"colorscale\": [[0.0, \"#0d0887\"], [0.1111111111111111, \"#46039f\"], [0.2222222222222222, \"#7201a8\"], [0.3333333333333333, \"#9c179e\"], [0.4444444444444444, \"#bd3786\"], [0.5555555555555556, \"#d8576b\"], [0.6666666666666666, \"#ed7953\"], [0.7777777777777778, \"#fb9f3a\"], [0.8888888888888888, \"#fdca26\"], [1.0, \"#f0f921\"]], \"type\": \"heatmapgl\"}], \"histogram\": [{\"marker\": {\"colorbar\": {\"outlinewidth\": 0, \"ticks\": \"\"}}, \"type\": \"histogram\"}], \"histogram2d\": [{\"colorbar\": {\"outlinewidth\": 0, \"ticks\": \"\"}, \"colorscale\": [[0.0, \"#0d0887\"], [0.1111111111111111, \"#46039f\"], [0.2222222222222222, \"#7201a8\"], [0.3333333333333333, \"#9c179e\"], [0.4444444444444444, \"#bd3786\"], [0.5555555555555556, \"#d8576b\"], [0.6666666666666666, \"#ed7953\"], [0.7777777777777778, \"#fb9f3a\"], [0.8888888888888888, \"#fdca26\"], [1.0, \"#f0f921\"]], \"type\": \"histogram2d\"}], \"histogram2dcontour\": [{\"colorbar\": {\"outlinewidth\": 0, \"ticks\": \"\"}, \"colorscale\": [[0.0, \"#0d0887\"], [0.1111111111111111, \"#46039f\"], [0.2222222222222222, \"#7201a8\"], [0.3333333333333333, \"#9c179e\"], [0.4444444444444444, \"#bd3786\"], [0.5555555555555556, \"#d8576b\"], [0.6666666666666666, \"#ed7953\"], [0.7777777777777778, \"#fb9f3a\"], [0.8888888888888888, \"#fdca26\"], [1.0, \"#f0f921\"]], \"type\": \"histogram2dcontour\"}], \"mesh3d\": [{\"colorbar\": {\"outlinewidth\": 0, \"ticks\": \"\"}, \"type\": \"mesh3d\"}], \"parcoords\": [{\"line\": {\"colorbar\": {\"outlinewidth\": 0, \"ticks\": \"\"}}, \"type\": \"parcoords\"}], \"pie\": [{\"automargin\": true, \"type\": \"pie\"}], \"scatter\": [{\"marker\": {\"colorbar\": {\"outlinewidth\": 0, \"ticks\": \"\"}}, \"type\": \"scatter\"}], \"scatter3d\": [{\"line\": {\"colorbar\": {\"outlinewidth\": 0, \"ticks\": \"\"}}, \"marker\": {\"colorbar\": {\"outlinewidth\": 0, \"ticks\": \"\"}}, \"type\": \"scatter3d\"}], \"scattercarpet\": [{\"marker\": {\"colorbar\": {\"outlinewidth\": 0, \"ticks\": \"\"}}, \"type\": \"scattercarpet\"}], \"scattergeo\": [{\"marker\": {\"colorbar\": {\"outlinewidth\": 0, \"ticks\": \"\"}}, \"type\": \"scattergeo\"}], \"scattergl\": [{\"marker\": {\"colorbar\": {\"outlinewidth\": 0, \"ticks\": \"\"}}, \"type\": \"scattergl\"}], \"scattermapbox\": [{\"marker\": {\"colorbar\": {\"outlinewidth\": 0, \"ticks\": \"\"}}, \"type\": \"scattermapbox\"}], \"scatterpolar\": [{\"marker\": {\"colorbar\": {\"outlinewidth\": 0, \"ticks\": \"\"}}, \"type\": \"scatterpolar\"}], \"scatterpolargl\": [{\"marker\": {\"colorbar\": {\"outlinewidth\": 0, \"ticks\": \"\"}}, \"type\": \"scatterpolargl\"}], \"scatterternary\": [{\"marker\": {\"colorbar\": {\"outlinewidth\": 0, \"ticks\": \"\"}}, \"type\": \"scatterternary\"}], \"surface\": [{\"colorbar\": {\"outlinewidth\": 0, \"ticks\": \"\"}, \"colorscale\": [[0.0, \"#0d0887\"], [0.1111111111111111, \"#46039f\"], [0.2222222222222222, \"#7201a8\"], [0.3333333333333333, \"#9c179e\"], [0.4444444444444444, \"#bd3786\"], [0.5555555555555556, \"#d8576b\"], [0.6666666666666666, \"#ed7953\"], [0.7777777777777778, \"#fb9f3a\"], [0.8888888888888888, \"#fdca26\"], [1.0, \"#f0f921\"]], \"type\": \"surface\"}], \"table\": [{\"cells\": {\"fill\": {\"color\": \"#EBF0F8\"}, \"line\": {\"color\": \"white\"}}, \"header\": {\"fill\": {\"color\": \"#C8D4E3\"}, \"line\": {\"color\": \"white\"}}, \"type\": \"table\"}]}, \"layout\": {\"annotationdefaults\": {\"arrowcolor\": \"#2a3f5f\", \"arrowhead\": 0, \"arrowwidth\": 1}, \"coloraxis\": {\"colorbar\": {\"outlinewidth\": 0, \"ticks\": \"\"}}, \"colorscale\": {\"diverging\": [[0, \"#8e0152\"], [0.1, \"#c51b7d\"], [0.2, \"#de77ae\"], [0.3, \"#f1b6da\"], [0.4, \"#fde0ef\"], [0.5, \"#f7f7f7\"], [0.6, \"#e6f5d0\"], [0.7, \"#b8e186\"], [0.8, \"#7fbc41\"], [0.9, \"#4d9221\"], [1, \"#276419\"]], \"sequential\": [[0.0, \"#0d0887\"], [0.1111111111111111, \"#46039f\"], [0.2222222222222222, \"#7201a8\"], [0.3333333333333333, \"#9c179e\"], [0.4444444444444444, \"#bd3786\"], [0.5555555555555556, \"#d8576b\"], [0.6666666666666666, \"#ed7953\"], [0.7777777777777778, \"#fb9f3a\"], [0.8888888888888888, \"#fdca26\"], [1.0, \"#f0f921\"]], \"sequentialminus\": [[0.0, \"#0d0887\"], [0.1111111111111111, \"#46039f\"], [0.2222222222222222, \"#7201a8\"], [0.3333333333333333, \"#9c179e\"], [0.4444444444444444, \"#bd3786\"], [0.5555555555555556, \"#d8576b\"], [0.6666666666666666, \"#ed7953\"], [0.7777777777777778, \"#fb9f3a\"], [0.8888888888888888, \"#fdca26\"], [1.0, \"#f0f921\"]]}, \"colorway\": [\"#636efa\", \"#EF553B\", \"#00cc96\", \"#ab63fa\", \"#FFA15A\", \"#19d3f3\", \"#FF6692\", \"#B6E880\", \"#FF97FF\", \"#FECB52\"], \"font\": {\"color\": \"#2a3f5f\"}, \"geo\": {\"bgcolor\": \"white\", \"lakecolor\": \"white\", \"landcolor\": \"#E5ECF6\", \"showlakes\": true, \"showland\": true, \"subunitcolor\": \"white\"}, \"hoverlabel\": {\"align\": \"left\"}, \"hovermode\": \"closest\", \"mapbox\": {\"style\": \"light\"}, \"paper_bgcolor\": \"white\", \"plot_bgcolor\": \"#E5ECF6\", \"polar\": {\"angularaxis\": {\"gridcolor\": \"white\", \"linecolor\": \"white\", \"ticks\": \"\"}, \"bgcolor\": \"#E5ECF6\", \"radialaxis\": {\"gridcolor\": \"white\", \"linecolor\": \"white\", \"ticks\": \"\"}}, \"scene\": {\"xaxis\": {\"backgroundcolor\": \"#E5ECF6\", \"gridcolor\": \"white\", \"gridwidth\": 2, \"linecolor\": \"white\", \"showbackground\": true, \"ticks\": \"\", \"zerolinecolor\": \"white\"}, \"yaxis\": {\"backgroundcolor\": \"#E5ECF6\", \"gridcolor\": \"white\", \"gridwidth\": 2, \"linecolor\": \"white\", \"showbackground\": true, \"ticks\": \"\", \"zerolinecolor\": \"white\"}, \"zaxis\": {\"backgroundcolor\": \"#E5ECF6\", \"gridcolor\": \"white\", \"gridwidth\": 2, \"linecolor\": \"white\", \"showbackground\": true, \"ticks\": \"\", \"zerolinecolor\": \"white\"}}, \"shapedefaults\": {\"line\": {\"color\": \"#2a3f5f\"}}, \"ternary\": {\"aaxis\": {\"gridcolor\": \"white\", \"linecolor\": \"white\", \"ticks\": \"\"}, \"baxis\": {\"gridcolor\": \"white\", \"linecolor\": \"white\", \"ticks\": \"\"}, \"bgcolor\": \"#E5ECF6\", \"caxis\": {\"gridcolor\": \"white\", \"linecolor\": \"white\", \"ticks\": \"\"}}, \"title\": {\"x\": 0.05}, \"xaxis\": {\"automargin\": true, \"gridcolor\": \"white\", \"linecolor\": \"white\", \"ticks\": \"\", \"title\": {\"standoff\": 15}, \"zerolinecolor\": \"white\", \"zerolinewidth\": 2}, \"yaxis\": {\"automargin\": true, \"gridcolor\": \"white\", \"linecolor\": \"white\", \"ticks\": \"\", \"title\": {\"standoff\": 15}, \"zerolinecolor\": \"white\", \"zerolinewidth\": 2}}}, \"title\": {\"text\": \"Number of movies per decade\"}},\n",
       "                        {\"responsive\": true}\n",
       "                    ).then(function(){\n",
       "                            \n",
       "var gd = document.getElementById('c87a4e31-ef1f-433f-9ff2-1dcca3f1dc5c');\n",
       "var x = new MutationObserver(function (mutations, observer) {{\n",
       "        var display = window.getComputedStyle(gd).display;\n",
       "        if (!display || display === 'none') {{\n",
       "            console.log([gd, 'removed!']);\n",
       "            Plotly.purge(gd);\n",
       "            observer.disconnect();\n",
       "        }}\n",
       "}});\n",
       "\n",
       "// Listen for the removal of the full notebook cells\n",
       "var notebookContainer = gd.closest('#notebook-container');\n",
       "if (notebookContainer) {{\n",
       "    x.observe(notebookContainer, {childList: true});\n",
       "}}\n",
       "\n",
       "// Listen for the clearing of the current output cell\n",
       "var outputEl = gd.closest('.output');\n",
       "if (outputEl) {{\n",
       "    x.observe(outputEl, {childList: true});\n",
       "}}\n",
       "\n",
       "                        })\n",
       "                };\n",
       "                });\n",
       "            </script>\n",
       "        </div>"
      ]
     },
     "metadata": {},
     "output_type": "display_data"
    }
   ],
   "source": [
    "import plotly#.plotly as py\n",
    "plotly.offline.init_notebook_mode(connected=True)\n",
    "\n",
    "movies_per_decade=final.groupby('decade').size().reset_index(name='counts')\n",
    "fig = px.pie(movies_per_decade, values='counts', names='decade', title='Number of movies per decade')\n",
    "fig.show()"
   ]
  },
  {
   "cell_type": "code",
   "execution_count": 83,
   "metadata": {},
   "outputs": [
    {
     "data": {
      "image/png": "[encoded data removed]",
      "text/plain": [
       "<IPython.core.display.Image object>"
      ]
     },
     "execution_count": 83,
     "metadata": {},
     "output_type": "execute_result"
    }
   ],
   "source": [
    "from IPython.display import Image\n",
    "Image(filename='./Figures/pie_plot.png')"
   ]
  },
  {
   "cell_type": "markdown",
   "metadata": {},
   "source": [
    "We demonstrate a pie chart constructed by the movies produced per decade (from 1900s to 2010s). We notice that the production of movies is increasing every decade. The number of movies is, approximately, being doubled every decade till the 2000s. The movies released in 2010s are, approximately, as many as they were in 2000s but the number shown for the 2010s is representing the activity from 2011 till 2018."
   ]
  },
  {
   "cell_type": "code",
   "execution_count": 77,
   "metadata": {},
   "outputs": [],
   "source": [
    "movies_per_year=final.groupby('release_year').size().reset_index(name='counts')\n",
    "movies_per_year=movies_per_year[movies_per_year['release_year']>1930]"
   ]
  },
  {
   "cell_type": "code",
   "execution_count": 80,
   "metadata": {},
   "outputs": [
    {
     "data": {
      "text/plain": [
       "Text(0, 0.5, 'Number of movies')"
      ]
     },
     "execution_count": 80,
     "metadata": {},
     "output_type": "execute_result"
    },
    {
     "data": {
      "image/png": "[encoded data removed]",
      "text/plain": [
       "<Figure size 1440x576 with 1 Axes>"
      ]
     },
     "metadata": {
      "needs_background": "light"
     },
     "output_type": "display_data"
    }
   ],
   "source": [
    "plt.figure(figsize=(20,8))\n",
    "\n",
    "ax = sns.barplot(x=\"release_year\", y=\"counts\", data=movies_per_year)\n",
    "plt.xticks(rotation='vertical')\n",
    "plt.ylabel('Number of movies')"
   ]
  },
  {
   "cell_type": "markdown",
   "metadata": {},
   "source": [
    "Through this barplot, we can conclude that the number of movies per year tend to increase. "
   ]
  },
  {
   "cell_type": "code",
   "execution_count": 29,
   "metadata": {},
   "outputs": [],
   "source": [
    "import json \n",
    "\n",
    "for index,i in final.iterrows():\n",
    "    cn=final.loc[index,'production_countries']\n",
    "#     print (index)\n",
    "#     print (cn)\n",
    "    if cn!='[]' and str(cn)!='nan': \n",
    "        k=cn[1:]\n",
    "        k=k[:-1]\n",
    "        k=k.replace(\"'\", '\"')\n",
    "        d=\"}\"\n",
    "        s =  [e+\"}\" for e in k.split(d) if e]\n",
    "        ls=[]\n",
    "        for j in s:\n",
    "            l=j.replace(\", {\", '{')\n",
    "            l=l.replace('\"}', \"\")\n",
    "            l=l.split(\", \")\n",
    "            ls.append(l[1][9:])\n",
    "    final.loc[index,'production_countries']=str(ls)\n",
    "\n",
    "\n"
   ]
  },
  {
   "cell_type": "code",
   "execution_count": 30,
   "metadata": {},
   "outputs": [
    {
     "data": {
      "text/html": [
       "<div>\n",
       "<style scoped>\n",
       "    .dataframe tbody tr th:only-of-type {\n",
       "        vertical-align: middle;\n",
       "    }\n",
       "\n",
       "    .dataframe tbody tr th {\n",
       "        vertical-align: top;\n",
       "    }\n",
       "\n",
       "    .dataframe thead th {\n",
       "        text-align: right;\n",
       "    }\n",
       "</style>\n",
       "<table border=\"1\" class=\"dataframe\">\n",
       "  <thead>\n",
       "    <tr style=\"text-align: right;\">\n",
       "      <th></th>\n",
       "      <th>indexes</th>\n",
       "      <th>score_17</th>\n",
       "      <th>score_20</th>\n",
       "      <th>score_imdb</th>\n",
       "    </tr>\n",
       "    <tr>\n",
       "      <th>production_countries</th>\n",
       "      <th></th>\n",
       "      <th></th>\n",
       "      <th></th>\n",
       "      <th></th>\n",
       "    </tr>\n",
       "  </thead>\n",
       "  <tbody>\n",
       "    <tr>\n",
       "      <th>United States of America</th>\n",
       "      <td>[0, 1, 2, 3, 4, 5, 6, 7, 8, 9, 10, 11, 12, 13,...</td>\n",
       "      <td>[8.476091921724109, 8.466930625599343, 8.28475...</td>\n",
       "      <td>[8.674521688325227, 8.56794918161479, 8.383806...</td>\n",
       "      <td>[9.28432711895008, 9.178033163539174, 8.985736...</td>\n",
       "    </tr>\n",
       "    <tr>\n",
       "      <th>United Kingdom</th>\n",
       "      <td>[2, 17, 19, 25, 31, 36, 38, 40, 45, 47, 49, 54...</td>\n",
       "      <td>[8.284757979938846, 8.08765198985473, 8.084483...</td>\n",
       "      <td>[8.383806800573895, 8.28669640147885, 8.284320...</td>\n",
       "      <td>[8.98573699478687, 8.785018629235687, 8.580677...</td>\n",
       "    </tr>\n",
       "    <tr>\n",
       "      <th>Germany</th>\n",
       "      <td>[3, 31, 38, 53, 80, 95, 119, 141, 146, 259, 28...</td>\n",
       "      <td>[8.280705432583439, 8.012424493744033, 7.96435...</td>\n",
       "      <td>[8.381306961924151, 8.231866730676666, 7.96859...</td>\n",
       "      <td>[8.78356418770418, 8.462729716790662, 8.068488...</td>\n",
       "    </tr>\n",
       "    <tr>\n",
       "      <th>Italy</th>\n",
       "      <td>[15, 206, 286, 316, 330, 383, 435, 457, 587, 6...</td>\n",
       "      <td>[8.139431631533395, 7.511926769116544, 7.37793...</td>\n",
       "      <td>[8.27564675667902, 7.655566950580669, 7.636695...</td>\n",
       "      <td>[8.31880132002325, 7.639886444709086, 7.814494...</td>\n",
       "    </tr>\n",
       "    <tr>\n",
       "      <th>Canada</th>\n",
       "      <td>[19, 28, 34, 74, 80, 98, 267, 316, 369, 389, 4...</td>\n",
       "      <td>[8.084483245115123, 8.039887931334114, 7.97362...</td>\n",
       "      <td>[8.284320920219749, 8.052058187017646, 8.11020...</td>\n",
       "      <td>[8.580677955327744, 8.039055205940562, 7.72570...</td>\n",
       "    </tr>\n",
       "  </tbody>\n",
       "</table>\n",
       "</div>"
      ],
      "text/plain": [
       "                                                                    indexes  \\\n",
       "production_countries                                                          \n",
       "United States of America  [0, 1, 2, 3, 4, 5, 6, 7, 8, 9, 10, 11, 12, 13,...   \n",
       "United Kingdom            [2, 17, 19, 25, 31, 36, 38, 40, 45, 47, 49, 54...   \n",
       "Germany                   [3, 31, 38, 53, 80, 95, 119, 141, 146, 259, 28...   \n",
       "Italy                     [15, 206, 286, 316, 330, 383, 435, 457, 587, 6...   \n",
       "Canada                    [19, 28, 34, 74, 80, 98, 267, 316, 369, 389, 4...   \n",
       "\n",
       "                                                                   score_17  \\\n",
       "production_countries                                                          \n",
       "United States of America  [8.476091921724109, 8.466930625599343, 8.28475...   \n",
       "United Kingdom            [8.284757979938846, 8.08765198985473, 8.084483...   \n",
       "Germany                   [8.280705432583439, 8.012424493744033, 7.96435...   \n",
       "Italy                     [8.139431631533395, 7.511926769116544, 7.37793...   \n",
       "Canada                    [8.084483245115123, 8.039887931334114, 7.97362...   \n",
       "\n",
       "                                                                   score_20  \\\n",
       "production_countries                                                          \n",
       "United States of America  [8.674521688325227, 8.56794918161479, 8.383806...   \n",
       "United Kingdom            [8.383806800573895, 8.28669640147885, 8.284320...   \n",
       "Germany                   [8.381306961924151, 8.231866730676666, 7.96859...   \n",
       "Italy                     [8.27564675667902, 7.655566950580669, 7.636695...   \n",
       "Canada                    [8.284320920219749, 8.052058187017646, 8.11020...   \n",
       "\n",
       "                                                                 score_imdb  \n",
       "production_countries                                                         \n",
       "United States of America  [9.28432711895008, 9.178033163539174, 8.985736...  \n",
       "United Kingdom            [8.98573699478687, 8.785018629235687, 8.580677...  \n",
       "Germany                   [8.78356418770418, 8.462729716790662, 8.068488...  \n",
       "Italy                     [8.31880132002325, 7.639886444709086, 7.814494...  \n",
       "Canada                    [8.580677955327744, 8.039055205940562, 7.72570...  "
      ]
     },
     "execution_count": 30,
     "metadata": {},
     "output_type": "execute_result"
    }
   ],
   "source": [
    "# dataframe with movies indexes per genre\n",
    "prd_cn=pd.DataFrame(columns=['production_countries','indexes','score_17','score_20','score_imdb'])\n",
    "prd_cn=prd_cn.set_index('production_countries')\n",
    "exists=first_time=0\n",
    "ls=[]\n",
    "\n",
    "for index,i in final.iterrows():\n",
    "    g=final.loc[index,'production_countries']\n",
    "    if (g!=np.nan and g!=\"\" and isinstance(g, str) ):\n",
    "        k=g[2:]\n",
    "        k=k[:-2]\n",
    "        g=k.split(\",\")\n",
    "        ls.append(g)\n",
    "        for g_ in g:\n",
    "            g_= g_.replace(\" '\", \"\")\n",
    "            g_= g_.replace(\"'\", \"\")\n",
    "            if g_ in prd_cn.index.values : \n",
    "                exists=exists+1\n",
    "                prd_cn.loc[g_,'indexes'].append(index)\n",
    "                prd_cn.loc[g_,'score_17'].append(final.loc[index,'score_17'])\n",
    "                prd_cn.loc[g_,'score_20'].append(final.loc[index,'score_20'])\n",
    "                prd_cn.loc[g_,'score_imdb'].append(final.loc[index,'score_imdb'])\n",
    "            else:\n",
    "                first_time=first_time+1\n",
    "                k=[index]\n",
    "                prd_cn.loc[g_] = [k,[final.loc[index,'score_17']],[final.loc[index,'score_20']],[final.loc[index,'score_imdb']]]\n",
    "\n"
   ]
  },
  {
   "cell_type": "code",
   "execution_count": 31,
   "metadata": {},
   "outputs": [
    {
     "name": "stdout",
     "output_type": "stream",
     "text": [
      "3\n"
     ]
    }
   ],
   "source": [
    "prd_cn['count']=[ len(i) for i in prd_cn['indexes'] ]\n",
    "prd_cn['avg_score_17']=[ mean(i) for i in prd_cn['score_17'] ]\n",
    "prd_cn['avg_score_20']=[ mean(i) for i in prd_cn['score_20'] ]\n",
    "prd_cn['avg_score_imdb']=[ mean(i) for i in prd_cn['score_imdb'] ]\n",
    "\n",
    "prd_cn.reset_index(drop=False, inplace=True)\n",
    "prd_cn=prd_cn.sort_values(by='count')\n",
    "p=0\n",
    "prd_cn[\"iso_alpha\"] = np.nan\n",
    "\n",
    "for index,i in prd_cn.iterrows():\n",
    "    cn=prd_cn.loc[index,'production_countries']\n",
    "#     print (prd_cn.loc[index,'production_countries'])\n",
    "    try:\n",
    "        iso =pycountry.countries.search_fuzzy(cn)\n",
    "        for i in iso : \n",
    "            prd_cn.loc[index,'iso_alpha']=i.alpha_3\n",
    "            break;\n",
    "    except :\n",
    "#         print(\"**********************\")\n",
    "        p=p+1\n",
    "\n",
    "print (p)        "
   ]
  },
  {
   "cell_type": "code",
   "execution_count": 34,
   "metadata": {},
   "outputs": [
    {
     "data": {
      "text/html": [
       "        <script type=\"text/javascript\">\n",
       "        window.PlotlyConfig = {MathJaxConfig: 'local'};\n",
       "        if (window.MathJax) {MathJax.Hub.Config({SVG: {font: \"STIX-Web\"}});}\n",
       "        if (typeof require !== 'undefined') {\n",
       "        require.undef(\"plotly\");\n",
       "        requirejs.config({\n",
       "            paths: {\n",
       "                'plotly': ['https://cdn.plot.ly/plotly-latest.min']\n",
       "            }\n",
       "        });\n",
       "        require(['plotly'], function(Plotly) {\n",
       "            window._Plotly = Plotly;\n",
       "        });\n",
       "        }\n",
       "        </script>\n",
       "        "
      ]
     },
     "metadata": {},
     "output_type": "display_data"
    },
    {
     "data": {
      "application/vnd.plotly.v1+json": {
       "config": {
        "plotlyServerURL": "https://plot.ly"
       },
       "data": [
        {
         "coloraxis": "coloraxis",
         "geo": "geo",
         "hoverlabel": {
          "namelength": 0
         },
         "hovertemplate": "<b>%{hovertext}</b><br><br>iso_alpha=%{location}<br>count=%{z}",
         "hovertext": [
          "Tunisia",
          "Cambodia",
          "Libyan Arab Jamahiriya",
          "Kuwait",
          "Lebanon",
          "Cuba",
          "Trinidad and Tobago",
          "Qatar",
          "Jordan",
          "Slovenia",
          "Bosnia and Herzegovina",
          "Cyprus",
          "Costa Rica",
          "Paraguay",
          "Uruguay",
          "Kazakhstan",
          "Liechtenstein",
          "Philippines",
          "Panama",
          "Serbia and Montenegro",
          "Angola",
          "Botswana",
          "Bahamas",
          "Indonesia",
          "Puerto Rico",
          "Lithuania",
          "Pakistan",
          "Malaysia",
          "Iran",
          "Serbia",
          "Thailand",
          "Peru",
          "Chile",
          "Singapore",
          "Portugal",
          "Morocco",
          "Greece",
          "Argentina",
          "Malta",
          "Iceland",
          "South Korea",
          "Taiwan",
          "Norway",
          "Austria",
          "Finland",
          "Brazil",
          "Bulgaria",
          "Romania",
          "Russia",
          "Israel",
          "Hungary",
          "Poland",
          "United Arab Emirates",
          "Denmark",
          "Sweden",
          "India",
          "Switzerland",
          "Luxembourg",
          "Mexico",
          "Netherlands",
          "South Africa",
          "Czech Republic",
          "Hong Kong",
          "China",
          "Belgium",
          "New Zealand",
          "Japan",
          "Ireland",
          "Spain",
          "Italy",
          "Australia",
          "Canada",
          "France",
          "Germany",
          "United Kingdom",
          "United States of America"
         ],
         "locations": [
          "TUN",
          "KHM",
          null,
          "KWT",
          "LBN",
          "CUB",
          "TTO",
          "QAT",
          "JOR",
          "SVN",
          "BIH",
          "CYP",
          "CRI",
          "PRY",
          "URY",
          "KAZ",
          "LIE",
          "PHL",
          "PAN",
          null,
          "AGO",
          "BWA",
          "BHS",
          "IDN",
          "PRI",
          "LTU",
          "PAK",
          "MYS",
          "IRN",
          "SRB",
          "THA",
          "PER",
          "CHL",
          "SGP",
          "PRT",
          "MAR",
          "GRC",
          "ARG",
          "MLT",
          "ISL",
          null,
          "TWN",
          "NOR",
          "AUT",
          "FIN",
          "BRA",
          "BGR",
          "ROU",
          "RUS",
          "ISR",
          "HUN",
          "POL",
          "ARE",
          "DNK",
          "SWE",
          "IND",
          "CHE",
          "LUX",
          "MEX",
          "NLD",
          "ZAF",
          "CZE",
          "HKG",
          "CHN",
          "BEL",
          "NZL",
          "JPN",
          "IRL",
          "ESP",
          "ITA",
          "AUS",
          "CAN",
          "FRA",
          "DEU",
          "GBR",
          "USA"
         ],
         "name": "",
         "type": "choropleth",
         "z": [
          1,
          1,
          1,
          1,
          1,
          1,
          1,
          1,
          1,
          1,
          1,
          1,
          1,
          1,
          1,
          1,
          1,
          1,
          1,
          1,
          1,
          2,
          2,
          2,
          2,
          2,
          2,
          2,
          2,
          2,
          3,
          3,
          4,
          4,
          4,
          4,
          4,
          4,
          5,
          5,
          5,
          5,
          6,
          7,
          7,
          7,
          7,
          7,
          9,
          10,
          12,
          13,
          13,
          14,
          15,
          17,
          19,
          20,
          20,
          21,
          23,
          25,
          29,
          36,
          39,
          42,
          57,
          58,
          59,
          64,
          141,
          304,
          330,
          342,
          886,
          5082
         ]
        }
       ],
       "layout": {
        "coloraxis": {
         "colorbar": {
          "title": {
           "text": "count"
          }
         },
         "colorscale": [
          [
           0,
           "rgb(102,194,165)"
          ],
          [
           0.14285714285714285,
           "rgb(252,141,98)"
          ],
          [
           0.2857142857142857,
           "rgb(141,160,203)"
          ],
          [
           0.42857142857142855,
           "rgb(231,138,195)"
          ],
          [
           0.5714285714285714,
           "rgb(166,216,84)"
          ],
          [
           0.7142857142857143,
           "rgb(255,217,47)"
          ],
          [
           0.8571428571428571,
           "rgb(229,196,148)"
          ],
          [
           1,
           "rgb(179,179,179)"
          ]
         ]
        },
        "geo": {
         "center": {},
         "domain": {
          "x": [
           0,
           1
          ],
          "y": [
           0,
           1
          ]
         }
        },
        "legend": {
         "tracegroupgap": 0
        },
        "margin": {
         "t": 60
        },
        "template": {
         "data": {
          "bar": [
           {
            "error_x": {
             "color": "#2a3f5f"
            },
            "error_y": {
             "color": "#2a3f5f"
            },
            "marker": {
             "line": {
              "color": "#E5ECF6",
              "width": 0.5
             }
            },
            "type": "bar"
           }
          ],
          "barpolar": [
           {
            "marker": {
             "line": {
              "color": "#E5ECF6",
              "width": 0.5
             }
            },
            "type": "barpolar"
           }
          ],
          "carpet": [
           {
            "aaxis": {
             "endlinecolor": "#2a3f5f",
             "gridcolor": "white",
             "linecolor": "white",
             "minorgridcolor": "white",
             "startlinecolor": "#2a3f5f"
            },
            "baxis": {
             "endlinecolor": "#2a3f5f",
             "gridcolor": "white",
             "linecolor": "white",
             "minorgridcolor": "white",
             "startlinecolor": "#2a3f5f"
            },
            "type": "carpet"
           }
          ],
          "choropleth": [
           {
            "colorbar": {
             "outlinewidth": 0,
             "ticks": ""
            },
            "type": "choropleth"
           }
          ],
          "contour": [
           {
            "colorbar": {
             "outlinewidth": 0,
             "ticks": ""
            },
            "colorscale": [
             [
              0,
              "#0d0887"
             ],
             [
              0.1111111111111111,
              "#46039f"
             ],
             [
              0.2222222222222222,
              "#7201a8"
             ],
             [
              0.3333333333333333,
              "#9c179e"
             ],
             [
              0.4444444444444444,
              "#bd3786"
             ],
             [
              0.5555555555555556,
              "#d8576b"
             ],
             [
              0.6666666666666666,
              "#ed7953"
             ],
             [
              0.7777777777777778,
              "#fb9f3a"
             ],
             [
              0.8888888888888888,
              "#fdca26"
             ],
             [
              1,
              "#f0f921"
             ]
            ],
            "type": "contour"
           }
          ],
          "contourcarpet": [
           {
            "colorbar": {
             "outlinewidth": 0,
             "ticks": ""
            },
            "type": "contourcarpet"
           }
          ],
          "heatmap": [
           {
            "colorbar": {
             "outlinewidth": 0,
             "ticks": ""
            },
            "colorscale": [
             [
              0,
              "#0d0887"
             ],
             [
              0.1111111111111111,
              "#46039f"
             ],
             [
              0.2222222222222222,
              "#7201a8"
             ],
             [
              0.3333333333333333,
              "#9c179e"
             ],
             [
              0.4444444444444444,
              "#bd3786"
             ],
             [
              0.5555555555555556,
              "#d8576b"
             ],
             [
              0.6666666666666666,
              "#ed7953"
             ],
             [
              0.7777777777777778,
              "#fb9f3a"
             ],
             [
              0.8888888888888888,
              "#fdca26"
             ],
             [
              1,
              "#f0f921"
             ]
            ],
            "type": "heatmap"
           }
          ],
          "heatmapgl": [
           {
            "colorbar": {
             "outlinewidth": 0,
             "ticks": ""
            },
            "colorscale": [
             [
              0,
              "#0d0887"
             ],
             [
              0.1111111111111111,
              "#46039f"
             ],
             [
              0.2222222222222222,
              "#7201a8"
             ],
             [
              0.3333333333333333,
              "#9c179e"
             ],
             [
              0.4444444444444444,
              "#bd3786"
             ],
             [
              0.5555555555555556,
              "#d8576b"
             ],
             [
              0.6666666666666666,
              "#ed7953"
             ],
             [
              0.7777777777777778,
              "#fb9f3a"
             ],
             [
              0.8888888888888888,
              "#fdca26"
             ],
             [
              1,
              "#f0f921"
             ]
            ],
            "type": "heatmapgl"
           }
          ],
          "histogram": [
           {
            "marker": {
             "colorbar": {
              "outlinewidth": 0,
              "ticks": ""
             }
            },
            "type": "histogram"
           }
          ],
          "histogram2d": [
           {
            "colorbar": {
             "outlinewidth": 0,
             "ticks": ""
            },
            "colorscale": [
             [
              0,
              "#0d0887"
             ],
             [
              0.1111111111111111,
              "#46039f"
             ],
             [
              0.2222222222222222,
              "#7201a8"
             ],
             [
              0.3333333333333333,
              "#9c179e"
             ],
             [
              0.4444444444444444,
              "#bd3786"
             ],
             [
              0.5555555555555556,
              "#d8576b"
             ],
             [
              0.6666666666666666,
              "#ed7953"
             ],
             [
              0.7777777777777778,
              "#fb9f3a"
             ],
             [
              0.8888888888888888,
              "#fdca26"
             ],
             [
              1,
              "#f0f921"
             ]
            ],
            "type": "histogram2d"
           }
          ],
          "histogram2dcontour": [
           {
            "colorbar": {
             "outlinewidth": 0,
             "ticks": ""
            },
            "colorscale": [
             [
              0,
              "#0d0887"
             ],
             [
              0.1111111111111111,
              "#46039f"
             ],
             [
              0.2222222222222222,
              "#7201a8"
             ],
             [
              0.3333333333333333,
              "#9c179e"
             ],
             [
              0.4444444444444444,
              "#bd3786"
             ],
             [
              0.5555555555555556,
              "#d8576b"
             ],
             [
              0.6666666666666666,
              "#ed7953"
             ],
             [
              0.7777777777777778,
              "#fb9f3a"
             ],
             [
              0.8888888888888888,
              "#fdca26"
             ],
             [
              1,
              "#f0f921"
             ]
            ],
            "type": "histogram2dcontour"
           }
          ],
          "mesh3d": [
           {
            "colorbar": {
             "outlinewidth": 0,
             "ticks": ""
            },
            "type": "mesh3d"
           }
          ],
          "parcoords": [
           {
            "line": {
             "colorbar": {
              "outlinewidth": 0,
              "ticks": ""
             }
            },
            "type": "parcoords"
           }
          ],
          "pie": [
           {
            "automargin": true,
            "type": "pie"
           }
          ],
          "scatter": [
           {
            "marker": {
             "colorbar": {
              "outlinewidth": 0,
              "ticks": ""
             }
            },
            "type": "scatter"
           }
          ],
          "scatter3d": [
           {
            "line": {
             "colorbar": {
              "outlinewidth": 0,
              "ticks": ""
             }
            },
            "marker": {
             "colorbar": {
              "outlinewidth": 0,
              "ticks": ""
             }
            },
            "type": "scatter3d"
           }
          ],
          "scattercarpet": [
           {
            "marker": {
             "colorbar": {
              "outlinewidth": 0,
              "ticks": ""
             }
            },
            "type": "scattercarpet"
           }
          ],
          "scattergeo": [
           {
            "marker": {
             "colorbar": {
              "outlinewidth": 0,
              "ticks": ""
             }
            },
            "type": "scattergeo"
           }
          ],
          "scattergl": [
           {
            "marker": {
             "colorbar": {
              "outlinewidth": 0,
              "ticks": ""
             }
            },
            "type": "scattergl"
           }
          ],
          "scattermapbox": [
           {
            "marker": {
             "colorbar": {
              "outlinewidth": 0,
              "ticks": ""
             }
            },
            "type": "scattermapbox"
           }
          ],
          "scatterpolar": [
           {
            "marker": {
             "colorbar": {
              "outlinewidth": 0,
              "ticks": ""
             }
            },
            "type": "scatterpolar"
           }
          ],
          "scatterpolargl": [
           {
            "marker": {
             "colorbar": {
              "outlinewidth": 0,
              "ticks": ""
             }
            },
            "type": "scatterpolargl"
           }
          ],
          "scatterternary": [
           {
            "marker": {
             "colorbar": {
              "outlinewidth": 0,
              "ticks": ""
             }
            },
            "type": "scatterternary"
           }
          ],
          "surface": [
           {
            "colorbar": {
             "outlinewidth": 0,
             "ticks": ""
            },
            "colorscale": [
             [
              0,
              "#0d0887"
             ],
             [
              0.1111111111111111,
              "#46039f"
             ],
             [
              0.2222222222222222,
              "#7201a8"
             ],
             [
              0.3333333333333333,
              "#9c179e"
             ],
             [
              0.4444444444444444,
              "#bd3786"
             ],
             [
              0.5555555555555556,
              "#d8576b"
             ],
             [
              0.6666666666666666,
              "#ed7953"
             ],
             [
              0.7777777777777778,
              "#fb9f3a"
             ],
             [
              0.8888888888888888,
              "#fdca26"
             ],
             [
              1,
              "#f0f921"
             ]
            ],
            "type": "surface"
           }
          ],
          "table": [
           {
            "cells": {
             "fill": {
              "color": "#EBF0F8"
             },
             "line": {
              "color": "white"
             }
            },
            "header": {
             "fill": {
              "color": "#C8D4E3"
             },
             "line": {
              "color": "white"
             }
            },
            "type": "table"
           }
          ]
         },
         "layout": {
          "annotationdefaults": {
           "arrowcolor": "#2a3f5f",
           "arrowhead": 0,
           "arrowwidth": 1
          },
          "coloraxis": {
           "colorbar": {
            "outlinewidth": 0,
            "ticks": ""
           }
          },
          "colorscale": {
           "diverging": [
            [
             0,
             "#8e0152"
            ],
            [
             0.1,
             "#c51b7d"
            ],
            [
             0.2,
             "#de77ae"
            ],
            [
             0.3,
             "#f1b6da"
            ],
            [
             0.4,
             "#fde0ef"
            ],
            [
             0.5,
             "#f7f7f7"
            ],
            [
             0.6,
             "#e6f5d0"
            ],
            [
             0.7,
             "#b8e186"
            ],
            [
             0.8,
             "#7fbc41"
            ],
            [
             0.9,
             "#4d9221"
            ],
            [
             1,
             "#276419"
            ]
           ],
           "sequential": [
            [
             0,
             "#0d0887"
            ],
            [
             0.1111111111111111,
             "#46039f"
            ],
            [
             0.2222222222222222,
             "#7201a8"
            ],
            [
             0.3333333333333333,
             "#9c179e"
            ],
            [
             0.4444444444444444,
             "#bd3786"
            ],
            [
             0.5555555555555556,
             "#d8576b"
            ],
            [
             0.6666666666666666,
             "#ed7953"
            ],
            [
             0.7777777777777778,
             "#fb9f3a"
            ],
            [
             0.8888888888888888,
             "#fdca26"
            ],
            [
             1,
             "#f0f921"
            ]
           ],
           "sequentialminus": [
            [
             0,
             "#0d0887"
            ],
            [
             0.1111111111111111,
             "#46039f"
            ],
            [
             0.2222222222222222,
             "#7201a8"
            ],
            [
             0.3333333333333333,
             "#9c179e"
            ],
            [
             0.4444444444444444,
             "#bd3786"
            ],
            [
             0.5555555555555556,
             "#d8576b"
            ],
            [
             0.6666666666666666,
             "#ed7953"
            ],
            [
             0.7777777777777778,
             "#fb9f3a"
            ],
            [
             0.8888888888888888,
             "#fdca26"
            ],
            [
             1,
             "#f0f921"
            ]
           ]
          },
          "colorway": [
           "#636efa",
           "#EF553B",
           "#00cc96",
           "#ab63fa",
           "#FFA15A",
           "#19d3f3",
           "#FF6692",
           "#B6E880",
           "#FF97FF",
           "#FECB52"
          ],
          "font": {
           "color": "#2a3f5f"
          },
          "geo": {
           "bgcolor": "white",
           "lakecolor": "white",
           "landcolor": "#E5ECF6",
           "showlakes": true,
           "showland": true,
           "subunitcolor": "white"
          },
          "hoverlabel": {
           "align": "left"
          },
          "hovermode": "closest",
          "mapbox": {
           "style": "light"
          },
          "paper_bgcolor": "white",
          "plot_bgcolor": "#E5ECF6",
          "polar": {
           "angularaxis": {
            "gridcolor": "white",
            "linecolor": "white",
            "ticks": ""
           },
           "bgcolor": "#E5ECF6",
           "radialaxis": {
            "gridcolor": "white",
            "linecolor": "white",
            "ticks": ""
           }
          },
          "scene": {
           "xaxis": {
            "backgroundcolor": "#E5ECF6",
            "gridcolor": "white",
            "gridwidth": 2,
            "linecolor": "white",
            "showbackground": true,
            "ticks": "",
            "zerolinecolor": "white"
           },
           "yaxis": {
            "backgroundcolor": "#E5ECF6",
            "gridcolor": "white",
            "gridwidth": 2,
            "linecolor": "white",
            "showbackground": true,
            "ticks": "",
            "zerolinecolor": "white"
           },
           "zaxis": {
            "backgroundcolor": "#E5ECF6",
            "gridcolor": "white",
            "gridwidth": 2,
            "linecolor": "white",
            "showbackground": true,
            "ticks": "",
            "zerolinecolor": "white"
           }
          },
          "shapedefaults": {
           "line": {
            "color": "#2a3f5f"
           }
          },
          "ternary": {
           "aaxis": {
            "gridcolor": "white",
            "linecolor": "white",
            "ticks": ""
           },
           "baxis": {
            "gridcolor": "white",
            "linecolor": "white",
            "ticks": ""
           },
           "bgcolor": "#E5ECF6",
           "caxis": {
            "gridcolor": "white",
            "linecolor": "white",
            "ticks": ""
           }
          },
          "title": {
           "x": 0.05
          },
          "xaxis": {
           "automargin": true,
           "gridcolor": "white",
           "linecolor": "white",
           "ticks": "",
           "title": {
            "standoff": 15
           },
           "zerolinecolor": "white",
           "zerolinewidth": 2
          },
          "yaxis": {
           "automargin": true,
           "gridcolor": "white",
           "linecolor": "white",
           "ticks": "",
           "title": {
            "standoff": 15
           },
           "zerolinecolor": "white",
           "zerolinewidth": 2
          }
         }
        }
       }
      },
      "text/html": [
       "<div>\n",
       "        \n",
       "        \n",
       "            <div id=\"bc29db0e-b009-435a-95e5-af8fbc3765fb\" class=\"plotly-graph-div\" style=\"height:525px; width:100%;\"></div>\n",
       "            <script type=\"text/javascript\">\n",
       "                require([\"plotly\"], function(Plotly) {\n",
       "                    window.PLOTLYENV=window.PLOTLYENV || {};\n",
       "                    \n",
       "                if (document.getElementById(\"bc29db0e-b009-435a-95e5-af8fbc3765fb\")) {\n",
       "                    Plotly.newPlot(\n",
       "                        'bc29db0e-b009-435a-95e5-af8fbc3765fb',\n",
       "                        [{\"coloraxis\": \"coloraxis\", \"geo\": \"geo\", \"hoverlabel\": {\"namelength\": 0}, \"hovertemplate\": \"<b>%{hovertext}</b><br><br>iso_alpha=%{location}<br>count=%{z}\", \"hovertext\": [\"Tunisia\", \"Cambodia\", \"Libyan Arab Jamahiriya\", \"Kuwait\", \"Lebanon\", \"Cuba\", \"Trinidad and Tobago\", \"Qatar\", \"Jordan\", \"Slovenia\", \"Bosnia and Herzegovina\", \"Cyprus\", \"Costa Rica\", \"Paraguay\", \"Uruguay\", \"Kazakhstan\", \"Liechtenstein\", \"Philippines\", \"Panama\", \"Serbia and Montenegro\", \"Angola\", \"Botswana\", \"Bahamas\", \"Indonesia\", \"Puerto Rico\", \"Lithuania\", \"Pakistan\", \"Malaysia\", \"Iran\", \"Serbia\", \"Thailand\", \"Peru\", \"Chile\", \"Singapore\", \"Portugal\", \"Morocco\", \"Greece\", \"Argentina\", \"Malta\", \"Iceland\", \"South Korea\", \"Taiwan\", \"Norway\", \"Austria\", \"Finland\", \"Brazil\", \"Bulgaria\", \"Romania\", \"Russia\", \"Israel\", \"Hungary\", \"Poland\", \"United Arab Emirates\", \"Denmark\", \"Sweden\", \"India\", \"Switzerland\", \"Luxembourg\", \"Mexico\", \"Netherlands\", \"South Africa\", \"Czech Republic\", \"Hong Kong\", \"China\", \"Belgium\", \"New Zealand\", \"Japan\", \"Ireland\", \"Spain\", \"Italy\", \"Australia\", \"Canada\", \"France\", \"Germany\", \"United Kingdom\", \"United States of America\"], \"locations\": [\"TUN\", \"KHM\", null, \"KWT\", \"LBN\", \"CUB\", \"TTO\", \"QAT\", \"JOR\", \"SVN\", \"BIH\", \"CYP\", \"CRI\", \"PRY\", \"URY\", \"KAZ\", \"LIE\", \"PHL\", \"PAN\", null, \"AGO\", \"BWA\", \"BHS\", \"IDN\", \"PRI\", \"LTU\", \"PAK\", \"MYS\", \"IRN\", \"SRB\", \"THA\", \"PER\", \"CHL\", \"SGP\", \"PRT\", \"MAR\", \"GRC\", \"ARG\", \"MLT\", \"ISL\", null, \"TWN\", \"NOR\", \"AUT\", \"FIN\", \"BRA\", \"BGR\", \"ROU\", \"RUS\", \"ISR\", \"HUN\", \"POL\", \"ARE\", \"DNK\", \"SWE\", \"IND\", \"CHE\", \"LUX\", \"MEX\", \"NLD\", \"ZAF\", \"CZE\", \"HKG\", \"CHN\", \"BEL\", \"NZL\", \"JPN\", \"IRL\", \"ESP\", \"ITA\", \"AUS\", \"CAN\", \"FRA\", \"DEU\", \"GBR\", \"USA\"], \"name\": \"\", \"type\": \"choropleth\", \"z\": [1, 1, 1, 1, 1, 1, 1, 1, 1, 1, 1, 1, 1, 1, 1, 1, 1, 1, 1, 1, 1, 2, 2, 2, 2, 2, 2, 2, 2, 2, 3, 3, 4, 4, 4, 4, 4, 4, 5, 5, 5, 5, 6, 7, 7, 7, 7, 7, 9, 10, 12, 13, 13, 14, 15, 17, 19, 20, 20, 21, 23, 25, 29, 36, 39, 42, 57, 58, 59, 64, 141, 304, 330, 342, 886, 5082]}],\n",
       "                        {\"coloraxis\": {\"colorbar\": {\"title\": {\"text\": \"count\"}}, \"colorscale\": [[0.0, \"rgb(102,194,165)\"], [0.14285714285714285, \"rgb(252,141,98)\"], [0.2857142857142857, \"rgb(141,160,203)\"], [0.42857142857142855, \"rgb(231,138,195)\"], [0.5714285714285714, \"rgb(166,216,84)\"], [0.7142857142857143, \"rgb(255,217,47)\"], [0.8571428571428571, \"rgb(229,196,148)\"], [1.0, \"rgb(179,179,179)\"]]}, \"geo\": {\"center\": {}, \"domain\": {\"x\": [0.0, 1.0], \"y\": [0.0, 1.0]}}, \"legend\": {\"tracegroupgap\": 0}, \"margin\": {\"t\": 60}, \"template\": {\"data\": {\"bar\": [{\"error_x\": {\"color\": \"#2a3f5f\"}, \"error_y\": {\"color\": \"#2a3f5f\"}, \"marker\": {\"line\": {\"color\": \"#E5ECF6\", \"width\": 0.5}}, \"type\": \"bar\"}], \"barpolar\": [{\"marker\": {\"line\": {\"color\": \"#E5ECF6\", \"width\": 0.5}}, \"type\": \"barpolar\"}], \"carpet\": [{\"aaxis\": {\"endlinecolor\": \"#2a3f5f\", \"gridcolor\": \"white\", \"linecolor\": \"white\", \"minorgridcolor\": \"white\", \"startlinecolor\": \"#2a3f5f\"}, \"baxis\": {\"endlinecolor\": \"#2a3f5f\", \"gridcolor\": \"white\", \"linecolor\": \"white\", \"minorgridcolor\": \"white\", \"startlinecolor\": \"#2a3f5f\"}, \"type\": \"carpet\"}], \"choropleth\": [{\"colorbar\": {\"outlinewidth\": 0, \"ticks\": \"\"}, \"type\": \"choropleth\"}], \"contour\": [{\"colorbar\": {\"outlinewidth\": 0, \"ticks\": \"\"}, \"colorscale\": [[0.0, \"#0d0887\"], [0.1111111111111111, \"#46039f\"], [0.2222222222222222, \"#7201a8\"], [0.3333333333333333, \"#9c179e\"], [0.4444444444444444, \"#bd3786\"], [0.5555555555555556, \"#d8576b\"], [0.6666666666666666, \"#ed7953\"], [0.7777777777777778, \"#fb9f3a\"], [0.8888888888888888, \"#fdca26\"], [1.0, \"#f0f921\"]], \"type\": \"contour\"}], \"contourcarpet\": [{\"colorbar\": {\"outlinewidth\": 0, \"ticks\": \"\"}, \"type\": \"contourcarpet\"}], \"heatmap\": [{\"colorbar\": {\"outlinewidth\": 0, \"ticks\": \"\"}, \"colorscale\": [[0.0, \"#0d0887\"], [0.1111111111111111, \"#46039f\"], [0.2222222222222222, \"#7201a8\"], [0.3333333333333333, \"#9c179e\"], [0.4444444444444444, \"#bd3786\"], [0.5555555555555556, \"#d8576b\"], [0.6666666666666666, \"#ed7953\"], [0.7777777777777778, \"#fb9f3a\"], [0.8888888888888888, \"#fdca26\"], [1.0, \"#f0f921\"]], \"type\": \"heatmap\"}], \"heatmapgl\": [{\"colorbar\": {\"outlinewidth\": 0, \"ticks\": \"\"}, \"colorscale\": [[0.0, \"#0d0887\"], [0.1111111111111111, \"#46039f\"], [0.2222222222222222, \"#7201a8\"], [0.3333333333333333, \"#9c179e\"], [0.4444444444444444, \"#bd3786\"], [0.5555555555555556, \"#d8576b\"], [0.6666666666666666, \"#ed7953\"], [0.7777777777777778, \"#fb9f3a\"], [0.8888888888888888, \"#fdca26\"], [1.0, \"#f0f921\"]], \"type\": \"heatmapgl\"}], \"histogram\": [{\"marker\": {\"colorbar\": {\"outlinewidth\": 0, \"ticks\": \"\"}}, \"type\": \"histogram\"}], \"histogram2d\": [{\"colorbar\": {\"outlinewidth\": 0, \"ticks\": \"\"}, \"colorscale\": [[0.0, \"#0d0887\"], [0.1111111111111111, \"#46039f\"], [0.2222222222222222, \"#7201a8\"], [0.3333333333333333, \"#9c179e\"], [0.4444444444444444, \"#bd3786\"], [0.5555555555555556, \"#d8576b\"], [0.6666666666666666, \"#ed7953\"], [0.7777777777777778, \"#fb9f3a\"], [0.8888888888888888, \"#fdca26\"], [1.0, \"#f0f921\"]], \"type\": \"histogram2d\"}], \"histogram2dcontour\": [{\"colorbar\": {\"outlinewidth\": 0, \"ticks\": \"\"}, \"colorscale\": [[0.0, \"#0d0887\"], [0.1111111111111111, \"#46039f\"], [0.2222222222222222, \"#7201a8\"], [0.3333333333333333, \"#9c179e\"], [0.4444444444444444, \"#bd3786\"], [0.5555555555555556, \"#d8576b\"], [0.6666666666666666, \"#ed7953\"], [0.7777777777777778, \"#fb9f3a\"], [0.8888888888888888, \"#fdca26\"], [1.0, \"#f0f921\"]], \"type\": \"histogram2dcontour\"}], \"mesh3d\": [{\"colorbar\": {\"outlinewidth\": 0, \"ticks\": \"\"}, \"type\": \"mesh3d\"}], \"parcoords\": [{\"line\": {\"colorbar\": {\"outlinewidth\": 0, \"ticks\": \"\"}}, \"type\": \"parcoords\"}], \"pie\": [{\"automargin\": true, \"type\": \"pie\"}], \"scatter\": [{\"marker\": {\"colorbar\": {\"outlinewidth\": 0, \"ticks\": \"\"}}, \"type\": \"scatter\"}], \"scatter3d\": [{\"line\": {\"colorbar\": {\"outlinewidth\": 0, \"ticks\": \"\"}}, \"marker\": {\"colorbar\": {\"outlinewidth\": 0, \"ticks\": \"\"}}, \"type\": \"scatter3d\"}], \"scattercarpet\": [{\"marker\": {\"colorbar\": {\"outlinewidth\": 0, \"ticks\": \"\"}}, \"type\": \"scattercarpet\"}], \"scattergeo\": [{\"marker\": {\"colorbar\": {\"outlinewidth\": 0, \"ticks\": \"\"}}, \"type\": \"scattergeo\"}], \"scattergl\": [{\"marker\": {\"colorbar\": {\"outlinewidth\": 0, \"ticks\": \"\"}}, \"type\": \"scattergl\"}], \"scattermapbox\": [{\"marker\": {\"colorbar\": {\"outlinewidth\": 0, \"ticks\": \"\"}}, \"type\": \"scattermapbox\"}], \"scatterpolar\": [{\"marker\": {\"colorbar\": {\"outlinewidth\": 0, \"ticks\": \"\"}}, \"type\": \"scatterpolar\"}], \"scatterpolargl\": [{\"marker\": {\"colorbar\": {\"outlinewidth\": 0, \"ticks\": \"\"}}, \"type\": \"scatterpolargl\"}], \"scatterternary\": [{\"marker\": {\"colorbar\": {\"outlinewidth\": 0, \"ticks\": \"\"}}, \"type\": \"scatterternary\"}], \"surface\": [{\"colorbar\": {\"outlinewidth\": 0, \"ticks\": \"\"}, \"colorscale\": [[0.0, \"#0d0887\"], [0.1111111111111111, \"#46039f\"], [0.2222222222222222, \"#7201a8\"], [0.3333333333333333, \"#9c179e\"], [0.4444444444444444, \"#bd3786\"], [0.5555555555555556, \"#d8576b\"], [0.6666666666666666, \"#ed7953\"], [0.7777777777777778, \"#fb9f3a\"], [0.8888888888888888, \"#fdca26\"], [1.0, \"#f0f921\"]], \"type\": \"surface\"}], \"table\": [{\"cells\": {\"fill\": {\"color\": \"#EBF0F8\"}, \"line\": {\"color\": \"white\"}}, \"header\": {\"fill\": {\"color\": \"#C8D4E3\"}, \"line\": {\"color\": \"white\"}}, \"type\": \"table\"}]}, \"layout\": {\"annotationdefaults\": {\"arrowcolor\": \"#2a3f5f\", \"arrowhead\": 0, \"arrowwidth\": 1}, \"coloraxis\": {\"colorbar\": {\"outlinewidth\": 0, \"ticks\": \"\"}}, \"colorscale\": {\"diverging\": [[0, \"#8e0152\"], [0.1, \"#c51b7d\"], [0.2, \"#de77ae\"], [0.3, \"#f1b6da\"], [0.4, \"#fde0ef\"], [0.5, \"#f7f7f7\"], [0.6, \"#e6f5d0\"], [0.7, \"#b8e186\"], [0.8, \"#7fbc41\"], [0.9, \"#4d9221\"], [1, \"#276419\"]], \"sequential\": [[0.0, \"#0d0887\"], [0.1111111111111111, \"#46039f\"], [0.2222222222222222, \"#7201a8\"], [0.3333333333333333, \"#9c179e\"], [0.4444444444444444, \"#bd3786\"], [0.5555555555555556, \"#d8576b\"], [0.6666666666666666, \"#ed7953\"], [0.7777777777777778, \"#fb9f3a\"], [0.8888888888888888, \"#fdca26\"], [1.0, \"#f0f921\"]], \"sequentialminus\": [[0.0, \"#0d0887\"], [0.1111111111111111, \"#46039f\"], [0.2222222222222222, \"#7201a8\"], [0.3333333333333333, \"#9c179e\"], [0.4444444444444444, \"#bd3786\"], [0.5555555555555556, \"#d8576b\"], [0.6666666666666666, \"#ed7953\"], [0.7777777777777778, \"#fb9f3a\"], [0.8888888888888888, \"#fdca26\"], [1.0, \"#f0f921\"]]}, \"colorway\": [\"#636efa\", \"#EF553B\", \"#00cc96\", \"#ab63fa\", \"#FFA15A\", \"#19d3f3\", \"#FF6692\", \"#B6E880\", \"#FF97FF\", \"#FECB52\"], \"font\": {\"color\": \"#2a3f5f\"}, \"geo\": {\"bgcolor\": \"white\", \"lakecolor\": \"white\", \"landcolor\": \"#E5ECF6\", \"showlakes\": true, \"showland\": true, \"subunitcolor\": \"white\"}, \"hoverlabel\": {\"align\": \"left\"}, \"hovermode\": \"closest\", \"mapbox\": {\"style\": \"light\"}, \"paper_bgcolor\": \"white\", \"plot_bgcolor\": \"#E5ECF6\", \"polar\": {\"angularaxis\": {\"gridcolor\": \"white\", \"linecolor\": \"white\", \"ticks\": \"\"}, \"bgcolor\": \"#E5ECF6\", \"radialaxis\": {\"gridcolor\": \"white\", \"linecolor\": \"white\", \"ticks\": \"\"}}, \"scene\": {\"xaxis\": {\"backgroundcolor\": \"#E5ECF6\", \"gridcolor\": \"white\", \"gridwidth\": 2, \"linecolor\": \"white\", \"showbackground\": true, \"ticks\": \"\", \"zerolinecolor\": \"white\"}, \"yaxis\": {\"backgroundcolor\": \"#E5ECF6\", \"gridcolor\": \"white\", \"gridwidth\": 2, \"linecolor\": \"white\", \"showbackground\": true, \"ticks\": \"\", \"zerolinecolor\": \"white\"}, \"zaxis\": {\"backgroundcolor\": \"#E5ECF6\", \"gridcolor\": \"white\", \"gridwidth\": 2, \"linecolor\": \"white\", \"showbackground\": true, \"ticks\": \"\", \"zerolinecolor\": \"white\"}}, \"shapedefaults\": {\"line\": {\"color\": \"#2a3f5f\"}}, \"ternary\": {\"aaxis\": {\"gridcolor\": \"white\", \"linecolor\": \"white\", \"ticks\": \"\"}, \"baxis\": {\"gridcolor\": \"white\", \"linecolor\": \"white\", \"ticks\": \"\"}, \"bgcolor\": \"#E5ECF6\", \"caxis\": {\"gridcolor\": \"white\", \"linecolor\": \"white\", \"ticks\": \"\"}}, \"title\": {\"x\": 0.05}, \"xaxis\": {\"automargin\": true, \"gridcolor\": \"white\", \"linecolor\": \"white\", \"ticks\": \"\", \"title\": {\"standoff\": 15}, \"zerolinecolor\": \"white\", \"zerolinewidth\": 2}, \"yaxis\": {\"automargin\": true, \"gridcolor\": \"white\", \"linecolor\": \"white\", \"ticks\": \"\", \"title\": {\"standoff\": 15}, \"zerolinecolor\": \"white\", \"zerolinewidth\": 2}}}},\n",
       "                        {\"responsive\": true}\n",
       "                    ).then(function(){\n",
       "                            \n",
       "var gd = document.getElementById('bc29db0e-b009-435a-95e5-af8fbc3765fb');\n",
       "var x = new MutationObserver(function (mutations, observer) {{\n",
       "        var display = window.getComputedStyle(gd).display;\n",
       "        if (!display || display === 'none') {{\n",
       "            console.log([gd, 'removed!']);\n",
       "            Plotly.purge(gd);\n",
       "            observer.disconnect();\n",
       "        }}\n",
       "}});\n",
       "\n",
       "// Listen for the removal of the full notebook cells\n",
       "var notebookContainer = gd.closest('#notebook-container');\n",
       "if (notebookContainer) {{\n",
       "    x.observe(notebookContainer, {childList: true});\n",
       "}}\n",
       "\n",
       "// Listen for the clearing of the current output cell\n",
       "var outputEl = gd.closest('.output');\n",
       "if (outputEl) {{\n",
       "    x.observe(outputEl, {childList: true});\n",
       "}}\n",
       "\n",
       "                        })\n",
       "                };\n",
       "                });\n",
       "            </script>\n",
       "        </div>"
      ]
     },
     "metadata": {},
     "output_type": "display_data"
    }
   ],
   "source": [
    "import plotly.express as px\n",
    "import plotly#.plotly as py\n",
    "\n",
    "plotly.offline.init_notebook_mode(connected=True)\n",
    "\n",
    "\n",
    "fig = px.choropleth(prd_cn.tail(300), locations=\"iso_alpha\",\n",
    "                    color=\"count\", # lifeExp is a column of gapminder\n",
    "                    hover_name=\"production_countries\", # column to add to hover information\n",
    "                    color_continuous_scale=px.colors.qualitative.Set2\n",
    "                    )\n",
    "fig.show()"
   ]
  },
  {
   "cell_type": "code",
   "execution_count": 81,
   "metadata": {},
   "outputs": [
    {
     "data": {
      "image/png": "[encoded data removed]",
      "text/plain": [
       "<IPython.core.display.Image object>"
      ]
     },
     "execution_count": 81,
     "metadata": {},
     "output_type": "execute_result"
    }
   ],
   "source": [
    "from IPython.display import Image\n",
    "Image(filename='./Figures/geo_map.png')"
   ]
  },
  {
   "cell_type": "markdown",
   "metadata": {},
   "source": [
    "The vast majority of movies are produced in USA (5082/5680 = 90%). As a result, we cannot examine how the production countries as a feature affects the ratings."
   ]
  },
  {
   "cell_type": "code",
   "execution_count": 40,
   "metadata": {},
   "outputs": [
    {
     "name": "stdout",
     "output_type": "stream",
     "text": [
      "24\n",
      "17589\n"
     ]
    }
   ],
   "source": [
    "# dataframe with movies indexes per genre\n",
    "genres_=pd.DataFrame(columns=['genre','indexes'])\n",
    "genres_=genres_.set_index('genre')\n",
    "exists=first_time=0\n",
    "ls=[]\n",
    "for index,i in final.iterrows():\n",
    "    g=final.loc[index,'gernres_imdb']\n",
    "    #print (genres_.index.values)\n",
    "    if (g!=np.nan and g!=\"\" and isinstance(g, str) ):\n",
    "        #print (g)  \n",
    "        if \"[\" in g:\n",
    "            k=g[1:]\n",
    "            k=k[:-1]\n",
    "            g= k.replace(\" \", \"\")\n",
    "            g= g.replace(\"'\", \"\")\n",
    "            g=g.split(\",\")\n",
    "            ls.append(g)\n",
    "            for g_ in g:\n",
    "                if g_ in genres_.index.values : \n",
    "                    exists=exists+1\n",
    "                    genres_.loc[g_,'indexes'].append(index)\n",
    "                else:\n",
    "                    first_time=first_time+1\n",
    "                    k=[index]\n",
    "                    genres_.loc[g_] = [k]\n",
    "        else:\n",
    "            g= g.replace(\" \", \"\")\n",
    "            g= g.replace(\"'\", \"\")\n",
    "            if g in genres_.index.values : \n",
    "                exists=exists+1\n",
    "                genres_.loc[g,'indexes'].append(index)\n",
    "            else:\n",
    "                first_time=first_time+1\n",
    "                k=[index]\n",
    "                genres_.loc[g] = [k]\n",
    "    \n",
    "    \n",
    "print (first_time)\n",
    "print(exists)"
   ]
  },
  {
   "cell_type": "code",
   "execution_count": 41,
   "metadata": {},
   "outputs": [
    {
     "data": {
      "image/png": "[encoded data removed]",
      "text/plain": [
       "<Figure size 576x720 with 1 Axes>"
      ]
     },
     "metadata": {
      "needs_background": "light"
     },
     "output_type": "display_data"
    }
   ],
   "source": [
    "genres_['count']=[ len(i) for i in genres_['indexes'] ]\n",
    "genres_.reset_index(drop=False, inplace=True)\n",
    "genres_=genres_.sort_values(by='count')\n",
    "ax = genres_.plot(kind='barh', x = 'genre', y = 'count',figsize=(8, 10), color='#86bf91', zorder=2, width=0.85)\n",
    "\n",
    "# Set x-axis label\n",
    "ax.set_xlabel(\"Number of Movies\", labelpad=20, weight='bold', size=12)\n",
    "\n",
    "# Set y-axis label\n",
    "ax.set_ylabel(\"Genres\", labelpad=20, weight='bold', size=12)\n",
    "\n",
    "ax.grid()"
   ]
  },
  {
   "cell_type": "markdown",
   "metadata": {},
   "source": [
    "We present a histogram for the number of existing movies per genre. There are 24 distinct movie genres. The most most typical genre is the drama, followed by comedy and thriller. While the 3 least common genres are Film-Noir , Short , News.\n"
   ]
  },
  {
   "cell_type": "code",
   "execution_count": 84,
   "metadata": {},
   "outputs": [],
   "source": [
    "# dataframe with movies indexes per genre\n",
    "genres_=pd.DataFrame(columns=['genre','indexes'])\n",
    "genres_=genres_.set_index('genre')\n",
    "exists=first_time=0\n",
    "ls=[]\n",
    "for index,i in final.iterrows():\n",
    "    g=final.loc[index,'gernres_imdb']\n",
    "    count=final.loc[index,'ratingCount_imdb']\n",
    "#     print(count)\n",
    "#     print (genres_.index.values)\n",
    "    if (g!=np.nan and g!=\"\" and isinstance(g, str) ):\n",
    "        #print (g)  \n",
    "        if \"[\" in g:\n",
    "            k=g[1:]\n",
    "            k=k[:-1]\n",
    "            g= k.replace(\" \", \"\")\n",
    "            g= g.replace(\"'\", \"\")\n",
    "            g=g.split(\",\")\n",
    "            ls.append(g)\n",
    "            for g_ in g:\n",
    "                if g_ in genres_.index.values : \n",
    "                    exists=exists+1\n",
    "                    genres_.loc[g_,'indexes'].append(count)\n",
    "                else:\n",
    "                    first_time=first_time+1\n",
    "                    k=[count]\n",
    "                    genres_.loc[g_] = [k]\n",
    "        else:\n",
    "            g= g.replace(\" \", \"\")\n",
    "            g= g.replace(\"'\", \"\")\n",
    "            if g in genres_.index.values : \n",
    "                exists=exists+1\n",
    "                genres_.loc[g,'indexes'].append(count)\n",
    "            else:\n",
    "                first_time=first_time+1\n",
    "                k=[count]\n",
    "                genres_.loc[g] = [k]\n",
    "    \n",
    "    \n",
    "# print (first_time)\n",
    "# print(exists)"
   ]
  },
  {
   "cell_type": "code",
   "execution_count": 48,
   "metadata": {},
   "outputs": [
    {
     "data": {
      "text/html": [
       "<div>\n",
       "<style scoped>\n",
       "    .dataframe tbody tr th:only-of-type {\n",
       "        vertical-align: middle;\n",
       "    }\n",
       "\n",
       "    .dataframe tbody tr th {\n",
       "        vertical-align: top;\n",
       "    }\n",
       "\n",
       "    .dataframe thead th {\n",
       "        text-align: right;\n",
       "    }\n",
       "</style>\n",
       "<table border=\"1\" class=\"dataframe\">\n",
       "  <thead>\n",
       "    <tr style=\"text-align: right;\">\n",
       "      <th></th>\n",
       "      <th>indexes</th>\n",
       "    </tr>\n",
       "    <tr>\n",
       "      <th>genre</th>\n",
       "      <th></th>\n",
       "    </tr>\n",
       "  </thead>\n",
       "  <tbody>\n",
       "    <tr>\n",
       "      <th>Drama</th>\n",
       "      <td>[2177591.0, 1500159.0, 2161352.0, 1739603.0, 1...</td>\n",
       "    </tr>\n",
       "    <tr>\n",
       "      <th>Crime</th>\n",
       "      <td>[1500159.0, 2161352.0, 1710354.0, 1050337.0, 1...</td>\n",
       "    </tr>\n",
       "    <tr>\n",
       "      <th>Action</th>\n",
       "      <td>[2161352.0, 1093296.0, 1909563.0, 1164801.0, 9...</td>\n",
       "    </tr>\n",
       "    <tr>\n",
       "      <th>Thriller</th>\n",
       "      <td>[2161352.0, 559972.0, 1909563.0, 413737.0, 133...</td>\n",
       "    </tr>\n",
       "    <tr>\n",
       "      <th>Biography</th>\n",
       "      <td>[1136691.0, 945970.0, 671958.0, 640044.0, 1913...</td>\n",
       "    </tr>\n",
       "  </tbody>\n",
       "</table>\n",
       "</div>"
      ],
      "text/plain": [
       "                                                     indexes\n",
       "genre                                                       \n",
       "Drama      [2177591.0, 1500159.0, 2161352.0, 1739603.0, 1...\n",
       "Crime      [1500159.0, 2161352.0, 1710354.0, 1050337.0, 1...\n",
       "Action     [2161352.0, 1093296.0, 1909563.0, 1164801.0, 9...\n",
       "Thriller   [2161352.0, 559972.0, 1909563.0, 413737.0, 133...\n",
       "Biography  [1136691.0, 945970.0, 671958.0, 640044.0, 1913..."
      ]
     },
     "execution_count": 48,
     "metadata": {},
     "output_type": "execute_result"
    }
   ],
   "source": [
    "genres_.head()"
   ]
  },
  {
   "cell_type": "code",
   "execution_count": 51,
   "metadata": {},
   "outputs": [
    {
     "data": {
      "image/png": "[encoded data removed]",
      "text/plain": [
       "<Figure size 576x720 with 1 Axes>"
      ]
     },
     "metadata": {
      "needs_background": "light"
     },
     "output_type": "display_data"
    }
   ],
   "source": [
    "genres_['count']=[ sum(i) for i in genres_['indexes'] ]\n",
    "genres_.reset_index(drop=False, inplace=True)\n",
    "genres_=genres_.sort_values(by='count')\n",
    "ax = genres_.plot(kind='barh', x = 'genre', y = 'count',figsize=(8, 10), color='#86bf91', zorder=2, width=0.85)\n",
    "\n",
    "# Set x-axis label\n",
    "ax.set_xlabel(\"Number of People who watched those genre\", labelpad=20, weight='bold', size=12)\n",
    "\n",
    "# Set y-axis label\n",
    "ax.set_ylabel(\"Genres\", labelpad=20, weight='bold', size=12)\n",
    "\n",
    "ax.grid()"
   ]
  },
  {
   "cell_type": "markdown",
   "metadata": {},
   "source": [
    "Through this barplot, we can conclude that people tend to watch more Drama movies. Afer that come Action and Thriller movies. \n",
    "While Short , Film-Noir, Docimentaries and Western movies are the least prefered by the public."
   ]
  },
  {
   "cell_type": "markdown",
   "metadata": {},
   "source": [
    "# Continue 2nd Part ----> "
   ]
  },
  {
   "cell_type": "code",
   "execution_count": null,
   "metadata": {},
   "outputs": [],
   "source": []
  }
 ],
 "metadata": {
  "kernelspec": {
   "display_name": "Python 3",
   "language": "python",
   "name": "python3"
  },
  "language_info": {
   "codemirror_mode": {
    "name": "ipython",
    "version": 3
   },
   "file_extension": ".py",
   "mimetype": "text/x-python",
   "name": "python",
   "nbconvert_exporter": "python",
   "pygments_lexer": "ipython3",
   "version": "3.7.3"
  }
 },
 "nbformat": 4,
 "nbformat_minor": 2
}
